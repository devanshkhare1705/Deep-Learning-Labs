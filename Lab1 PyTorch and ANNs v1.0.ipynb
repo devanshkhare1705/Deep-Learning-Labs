{
 "cells": [
  {
   "cell_type": "markdown",
   "metadata": {
    "id": "3sxa8YxCbzGL"
   },
   "source": [
    "# Lab 1. PyTorch and ANNs\n",
    "\n",
    "This lab is a warm up to get you used to the PyTorch programming environment used\n",
    "in the course, and also to help you review and renew your knowledge\n",
    "of Python and relevant Python libraries.\n",
    "The lab must be done individually. Please recall that the\n",
    "University of Toronto plagarism rules apply.\n",
    "\n",
    "By the end of this lab, you should be able to:\n",
    "\n",
    "1. Be able to perform basic PyTorch tensor operations.\n",
    "2. Be able to load data into PyTorch\n",
    "3. Be able to configure an Artificial Neural Network (ANN) using PyTorch\n",
    "4. Be able to train ANNs using PyTorch\n",
    "5. Be able to evaluate different ANN configuations\n",
    "\n",
    "You will need to use numpy and PyTorch documentations for this assignment:\n",
    "\n",
    "* https://docs.scipy.org/doc/numpy/reference/\n",
    "* https://pytorch.org/docs/stable/torch.html\n",
    "\n",
    "You can also reference Python API documentations freely.\n",
    "\n",
    "\n",
    "### What to submit\n",
    "\n",
    "Submit a PDF file containing all your code, outputs, and write-up\n",
    "from parts 1-5. You can produce a PDF of your Google Colab file by\n",
    "going to `File -> Print` and then save as PDF. The Colab instructions\n",
    "has more information.\n",
    "\n",
    "**Do not submit any other files produced by your code.**\n",
    "\n",
    "Include a link to your colab file in your submission.\n",
    "\n",
    "Please use Google Colab to complete this assignment. If you want to use Jupyter Notebook, please complete the assignment and upload your Jupyter Notebook file to Google Colab for submission. \n",
    "\n",
    "**Adjust the scaling to ensure that the text is not cutoff at the margins.**"
   ]
  },
  {
   "cell_type": "markdown",
   "metadata": {
    "id": "_TlLBrWBIGt0"
   },
   "source": [
    "## Colab Link\n",
    "\n",
    "Submit make sure to include a link to your colab file here\n",
    "\n",
    "Colab Link: "
   ]
  },
  {
   "cell_type": "markdown",
   "metadata": {
    "id": "mALD3Y2bbzGT"
   },
   "source": [
    "## Part 1. Python Basics [3 pt]\n",
    "\n",
    "The purpose of this section is to get you used to the \n",
    "basics of Python, including working with functions, numbers,\n",
    "lists, and strings.\n",
    "\n",
    "Note that we **will** be checking your code for clarity and efficiency.\n",
    "\n",
    "If you have trouble with this part of the assignment, please review http://cs231n.github.io/python-numpy-tutorial/"
   ]
  },
  {
   "cell_type": "markdown",
   "metadata": {
    "id": "7gimRTE9bzGa"
   },
   "source": [
    "### Part (a) -- 1pt\n",
    "\n",
    "Write a function `sum_of_cubes` that computes the sum of cubes up to `n`. If the input to `sum_of_cubes` invalid (e.g. negative or non-integer `n`), the function should print out `\"Invalid input\"` and return `-1`."
   ]
  },
  {
   "cell_type": "code",
   "execution_count": 2,
   "metadata": {
    "id": "fifG_Wv6bzGf",
    "jupyter": {
     "outputs_hidden": true
    }
   },
   "outputs": [],
   "source": [
    "def sum_of_cubes(n):\n",
    "    \"\"\"Return the sum (1^3 + 2^3 + 3^3 + ... + n^3)\n",
    "    \n",
    "    Precondition: n > 0, type(n) == int\n",
    "    \n",
    "    >>> sum_of_cubes(3)\n",
    "    36\n",
    "    >>> sum_of_cubes(1)\n",
    "    1\n",
    "    \"\"\"\n",
    "    if n <= 0:\n",
    "        print(\"Invalid input\")\n",
    "        return -1\n",
    "    \n",
    "    if type(n)!= int:\n",
    "        print(\"Invalid input\")\n",
    "        return -1\n",
    "    \n",
    "    cubesum = 0\n",
    "    for i in range(n):\n",
    "        cubesum+=(i+1)**3\n",
    "    \n",
    "    return cubesum"
   ]
  },
  {
   "cell_type": "code",
   "execution_count": 5,
   "metadata": {},
   "outputs": [
    {
     "data": {
      "text/plain": [
       "36"
      ]
     },
     "execution_count": 5,
     "metadata": {},
     "output_type": "execute_result"
    }
   ],
   "source": [
    "sum_of_cubes(3)"
   ]
  },
  {
   "cell_type": "markdown",
   "metadata": {
    "id": "bOxDP8AlbzG2"
   },
   "source": [
    "### Part (b) -- 1pt\n",
    "\n",
    "Write a function `word_lengths` that takes a sentence (string), computes the length of each word in that sentence, and returns the length of each word in a list. You can\n",
    "assume that words are always separated by a space character `\" \"`.\n",
    "\n",
    "Hint: recall the `str.split` function in Python.\n",
    "If you arenot sure how this function works, try\n",
    "typing `help(str.split)` into a Python shell, or check out https://docs.python.org/3.6/library/stdtypes.html#str.split"
   ]
  },
  {
   "cell_type": "code",
   "execution_count": 4,
   "metadata": {
    "id": "w1lbnwgsbzHG",
    "jupyter": {
     "outputs_hidden": true
    }
   },
   "outputs": [],
   "source": [
    "def word_lengths(sentence):\n",
    "    \"\"\"Return a list containing the length of each word in\n",
    "    sentence.\n",
    "    \n",
    "    >>> word_lengths(\"welcome to APS360!\")\n",
    "    [7, 2, 7]\n",
    "    >>> word_lengths(\"machine learning is so cool\")\n",
    "    [7, 8, 2, 2, 4]\n",
    "    \"\"\"\n",
    "    word_list = sentence.split()\n",
    "    lengths = []\n",
    "    for word in word_list:\n",
    "        lengths.append(len(word))\n",
    "        \n",
    "    return lengths"
   ]
  },
  {
   "cell_type": "code",
   "execution_count": 7,
   "metadata": {},
   "outputs": [
    {
     "data": {
      "text/plain": [
       "[7, 8, 2, 2, 4]"
      ]
     },
     "execution_count": 7,
     "metadata": {},
     "output_type": "execute_result"
    }
   ],
   "source": [
    "word_lengths(\"machine learning is so cool\")"
   ]
  },
  {
   "cell_type": "markdown",
   "metadata": {
    "id": "iCsnzu4NIGuD"
   },
   "source": [
    "### Part (c) -- 1pt\n",
    "\n",
    "Write a function `all_same_length` that takes a sentence (string),\n",
    "and checks whether every word in the string is the same length.\n",
    "You should call the function `word_lengths` in the body\n",
    "of this new function.\n"
   ]
  },
  {
   "cell_type": "code",
   "execution_count": 9,
   "metadata": {
    "id": "Z-7qytZEIGuE",
    "jupyter": {
     "outputs_hidden": true
    }
   },
   "outputs": [],
   "source": [
    "def all_same_length(sentence):\n",
    "    \"\"\"Return True if every word in sentence has the same\n",
    "    length, and False otherwise.\n",
    "    \n",
    "    >>> all_same_length(\"all same length\")\n",
    "    False\n",
    "    >>> all_same_length(\"hello world\")\n",
    "    True\n",
    "    \"\"\"\n",
    "    word_length_list = word_lengths(sentence)\n",
    "    for index in range(len(word_length_list)-1):\n",
    "        if word_length_list[index] == word_length_list[index+1]:\n",
    "            asl_truth_value = True\n",
    "        else:\n",
    "            return False\n",
    "    return asl_truth_value"
   ]
  },
  {
   "cell_type": "code",
   "execution_count": 10,
   "metadata": {},
   "outputs": [
    {
     "data": {
      "text/plain": [
       "False"
      ]
     },
     "execution_count": 10,
     "metadata": {},
     "output_type": "execute_result"
    }
   ],
   "source": [
    "all_same_length(\"all same length\")"
   ]
  },
  {
   "cell_type": "markdown",
   "metadata": {
    "id": "yUh1MySTbzHT"
   },
   "source": [
    "## Part 2. NumPy Exercises [5 pt]\n",
    "\n",
    "In this part of the assignment, you'll be manipulating arrays \n",
    "usign NumPy. Normally, we use the shorter name `np` to represent\n",
    "the package `numpy`."
   ]
  },
  {
   "cell_type": "code",
   "execution_count": 11,
   "metadata": {
    "id": "H2opcxqMbzHW",
    "jupyter": {
     "outputs_hidden": true
    }
   },
   "outputs": [],
   "source": [
    "import numpy as np"
   ]
  },
  {
   "cell_type": "markdown",
   "metadata": {
    "id": "Ek29jdqPbzHf"
   },
   "source": [
    "### Part (a) -- 1pt\n",
    "\n",
    "The below variables `matrix` and `vector` are numpy arrays. Explain what you think `<NumpyArray>.size` and `<NumpyArray>.shape` represent.\n",
    "\n",
    "A)\n",
    "1) `<NumpyArray>.size` represents the total number of elements present in a numpy array. Its output retains its format regardless of the array’s dimensions -- e.g., the sizes of a 2-D array and a 1-D array will both be output as integers.\n",
    "    \n",
    "    \n",
    "2) `<NumpyArray>.shape`represents the dimensions of a numpy array. Its output format might vary based on whether the array is 1-D or multidimensional:\n",
    "    \n",
    "a) For 1-D arrays (vectors), it returns outputs in the (X, ) format. X here describes how many elements are present in the vector.\n",
    "    \n",
    "b) For multidimensional arrays, it returns outputs in the (X,Y,Z ...,A) format.\n"
   ]
  },
  {
   "cell_type": "code",
   "execution_count": 12,
   "metadata": {
    "id": "Z6eniOV2bzHi",
    "jupyter": {
     "outputs_hidden": true
    }
   },
   "outputs": [],
   "source": [
    "matrix = np.array([[1., 2., 3., 0.5],\n",
    "                   [4., 5., 0., 0.],\n",
    "                   [-1., -2., 1., 1.]])\n",
    "vector = np.array([2., 0., 1., -2.])"
   ]
  },
  {
   "cell_type": "code",
   "execution_count": 13,
   "metadata": {
    "id": "JMIy15dKIGuP",
    "jupyter": {
     "outputs_hidden": true
    }
   },
   "outputs": [
    {
     "data": {
      "text/plain": [
       "12"
      ]
     },
     "execution_count": 13,
     "metadata": {},
     "output_type": "execute_result"
    }
   ],
   "source": [
    "matrix.size"
   ]
  },
  {
   "cell_type": "code",
   "execution_count": 14,
   "metadata": {
    "id": "QoHaPzDNbzHo",
    "jupyter": {
     "outputs_hidden": true
    },
    "scrolled": true
   },
   "outputs": [
    {
     "data": {
      "text/plain": [
       "(3, 4)"
      ]
     },
     "execution_count": 14,
     "metadata": {},
     "output_type": "execute_result"
    }
   ],
   "source": [
    "matrix.shape"
   ]
  },
  {
   "cell_type": "code",
   "execution_count": 15,
   "metadata": {
    "id": "dErt6w25bzHu",
    "jupyter": {
     "outputs_hidden": true
    }
   },
   "outputs": [
    {
     "data": {
      "text/plain": [
       "4"
      ]
     },
     "execution_count": 15,
     "metadata": {},
     "output_type": "execute_result"
    }
   ],
   "source": [
    "vector.size"
   ]
  },
  {
   "cell_type": "code",
   "execution_count": 16,
   "metadata": {
    "id": "TXhHCchIIGua",
    "jupyter": {
     "outputs_hidden": true
    }
   },
   "outputs": [
    {
     "data": {
      "text/plain": [
       "(4,)"
      ]
     },
     "execution_count": 16,
     "metadata": {},
     "output_type": "execute_result"
    }
   ],
   "source": [
    "vector.shape"
   ]
  },
  {
   "cell_type": "markdown",
   "metadata": {
    "id": "9PQ-pRIlbzH8"
   },
   "source": [
    "### Part (b) -- 1pt\n",
    "\n",
    "Perform matrix multiplication `output = matrix x vector` by using\n",
    "for loops to iterate through the columns and rows.\n",
    "Do not use any builtin NumPy functions.\n",
    "Cast your output into a NumPy array, if it isn't one already.\n",
    "\n",
    "Hint: be mindful of the dimension of output"
   ]
  },
  {
   "cell_type": "code",
   "execution_count": 17,
   "metadata": {
    "id": "BiIVqVvvbzII",
    "jupyter": {
     "outputs_hidden": true
    }
   },
   "outputs": [
    {
     "data": {
      "text/plain": [
       "[4.0, 8.0, -3.0]"
      ]
     },
     "execution_count": 17,
     "metadata": {},
     "output_type": "execute_result"
    }
   ],
   "source": [
    "output = []\n",
    "\n",
    "for i in range(matrix.shape[0]):\n",
    "    output.append(0)\n",
    "    row = matrix[i]\n",
    "    for j in range(matrix.shape[1]):\n",
    "        output[i]+=row[j]*vector[j]\n",
    "np.array(output)\n",
    "output"
   ]
  },
  {
   "cell_type": "markdown",
   "metadata": {
    "id": "O5UhbilNbzIP"
   },
   "source": [
    "### Part (c) -- 1pt\n",
    "\n",
    "Perform matrix multiplication `output2 = matrix x vector` by using\n",
    "the function `numpy.dot`.\n",
    "\n",
    "We will never actually write code as in\n",
    "part(c), not only because `numpy.dot` is more concise and easier to read/write, but also performance-wise `numpy.dot` is much faster (it is written in C and highly optimized).\n",
    "In general, we will avoid for loops in our code."
   ]
  },
  {
   "cell_type": "code",
   "execution_count": 18,
   "metadata": {
    "id": "e8dLVrMEbzIR",
    "jupyter": {
     "outputs_hidden": true
    }
   },
   "outputs": [],
   "source": [
    "output2 = np.dot(matrix,vector)"
   ]
  },
  {
   "cell_type": "code",
   "execution_count": 19,
   "metadata": {
    "id": "X1LqY1eKbzIV",
    "jupyter": {
     "outputs_hidden": true
    }
   },
   "outputs": [
    {
     "data": {
      "text/plain": [
       "array([ 4.,  8., -3.])"
      ]
     },
     "execution_count": 19,
     "metadata": {},
     "output_type": "execute_result"
    }
   ],
   "source": [
    "output2"
   ]
  },
  {
   "cell_type": "markdown",
   "metadata": {
    "id": "77XioX6vbzIb"
   },
   "source": [
    "### Part (d) -- 1pt\n",
    "\n",
    "As a way to test for consistency, show that the two outputs match."
   ]
  },
  {
   "cell_type": "code",
   "execution_count": 20,
   "metadata": {
    "id": "1Vc-Nvf0bzIc",
    "jupyter": {
     "outputs_hidden": true
    }
   },
   "outputs": [
    {
     "data": {
      "text/plain": [
       "True"
      ]
     },
     "execution_count": 20,
     "metadata": {},
     "output_type": "execute_result"
    }
   ],
   "source": [
    "(output == output2).all()"
   ]
  },
  {
   "cell_type": "markdown",
   "metadata": {
    "id": "wjEGmk8oIGur"
   },
   "source": [
    "### Part (e) -- 1pt\n",
    "\n",
    "Show that using `np.dot` is faster than using your code from part (c).\n",
    "\n",
    "You may find the below code snippit helpful:"
   ]
  },
  {
   "cell_type": "code",
   "execution_count": 23,
   "metadata": {
    "id": "XlnE0XO8IGur",
    "jupyter": {
     "outputs_hidden": true
    }
   },
   "outputs": [
    {
     "name": "stdout",
     "output_type": "stream",
     "text": [
      "For Loops runtime =  0.0006887912750244141\n",
      "Numpy Dot runtime =  0.0003559589385986328\n",
      "Numpy Dot is faster than For Loops: True\n"
     ]
    }
   ],
   "source": [
    "import time\n",
    "\n",
    "# record the time before running code\n",
    "start_time = time.time()\n",
    "\n",
    "# place code to run here\n",
    "output = []\n",
    "\n",
    "for i in range(matrix.shape[0]):\n",
    "    output.append(0)\n",
    "    row = matrix[i]\n",
    "    for j in range(matrix.shape[1]):\n",
    "        output[i]+=row[j]*vector[j]\n",
    "np.array(output)\n",
    "output\n",
    "    \n",
    "# record the time after the code is run\n",
    "end_time = time.time()\n",
    "\n",
    "# compute the difference\n",
    "for_loop_diff = end_time - start_time\n",
    "print(\"For Loops runtime = \",for_loop_diff)\n",
    "\n",
    "start_time2 = time.time()\n",
    "numpy_dot_operation = np.dot(matrix,vector)\n",
    "end_time2 = time.time()\n",
    "numpy_dot_diff = end_time2 - start_time2\n",
    "print(\"Numpy Dot runtime = \",numpy_dot_diff)\n",
    "\n",
    "print(\"Numpy Dot is faster than For Loops:\", numpy_dot_diff<for_loop_diff)"
   ]
  },
  {
   "cell_type": "markdown",
   "metadata": {
    "id": "LbKJjoHHbzI4"
   },
   "source": [
    "## Part 3. Images [6 pt]\n",
    "\n",
    "A picture or image can be represented as a NumPy array of “pixels”, \n",
    "with dimensions H × W × C, where H is the height of the image, W is the width of the image,\n",
    "and C is the number of colour channels. Typically we will use an image with channels that give the the Red, Green, and Blue “level” of each pixel, which is referred to with the short form RGB.\n",
    "\n",
    "You will write Python code to load an image, and perform several array manipulations to the image and visualize their effects. "
   ]
  },
  {
   "cell_type": "code",
   "execution_count": 25,
   "metadata": {
    "id": "FRGQKpEgbzI4",
    "jupyter": {
     "outputs_hidden": true
    }
   },
   "outputs": [],
   "source": [
    "import matplotlib.pyplot as plt"
   ]
  },
  {
   "cell_type": "markdown",
   "metadata": {
    "id": "p1D5mtCubzI6"
   },
   "source": [
    "### Part (a) -- 1 pt\n",
    "\n",
    "This is a photograph of a dog whose name is Mochi.\n",
    "\n",
    "![alt text](https://drive.google.com/uc?export=view&id=1oaLVR2hr1_qzpKQ47i9rVUIklwbDcews)\n",
    "\n",
    "Load the image from its url (https://drive.google.com/uc?export=view&id=1oaLVR2hr1_qzpKQ47i9rVUIklwbDcews) into the variable `img` using the `plt.imread` function.\n",
    "\n",
    "Hint: You can enter the URL directly into the `plt.imread` function as a Python string."
   ]
  },
  {
   "cell_type": "code",
   "execution_count": 26,
   "metadata": {
    "id": "RB8lf73vbzI7",
    "jupyter": {
     "outputs_hidden": true
    }
   },
   "outputs": [
    {
     "name": "stderr",
     "output_type": "stream",
     "text": [
      "/var/folders/f2/mjz802gs4vxd8zbmyjt35_w00000gn/T/ipykernel_27767/625953250.py:1: MatplotlibDeprecationWarning: Directly reading images from URLs is deprecated since 3.4 and will no longer be supported two minor releases later. Please open the URL for reading and pass the result to Pillow, e.g. with ``np.array(PIL.Image.open(urllib.request.urlopen(url)))``.\n",
      "  img = plt.imread('https://drive.google.com/uc?export=view&id=1oaLVR2hr1_qzpKQ47i9rVUIklwbDcews')\n"
     ]
    }
   ],
   "source": [
    "img = plt.imread('https://drive.google.com/uc?export=view&id=1oaLVR2hr1_qzpKQ47i9rVUIklwbDcews')"
   ]
  },
  {
   "cell_type": "markdown",
   "metadata": {
    "id": "mNli5OsbbzI9"
   },
   "source": [
    "### Part (b) -- 1pt\n",
    "\n",
    "Use the function `plt.imshow` to visualize `img`. \n",
    "\n",
    "This function will also show the coordinate system used to identify pixels.\n",
    "The origin is at the top left corner, and the first dimension indicates the Y (row) direction, \n",
    "and the second dimension indicates the X (column) dimension."
   ]
  },
  {
   "cell_type": "code",
   "execution_count": 27,
   "metadata": {
    "id": "lEeHKc_abzI9",
    "jupyter": {
     "outputs_hidden": true
    }
   },
   "outputs": [
    {
     "data": {
      "text/plain": [
       "<matplotlib.image.AxesImage at 0x7fa308bae3a0>"
      ]
     },
     "execution_count": 27,
     "metadata": {},
     "output_type": "execute_result"
    },
    {
     "data": {
      "image/png": "[encoded data removed]",
      "text/plain": [
       "<Figure size 432x288 with 1 Axes>"
      ]
     },
     "metadata": {
      "needs_background": "light"
     },
     "output_type": "display_data"
    }
   ],
   "source": [
    "plt.imshow(img)"
   ]
  },
  {
   "cell_type": "markdown",
   "metadata": {
    "id": "pB-Hx-OFbzJC"
   },
   "source": [
    "### Part (c) -- 2pt\n",
    "\n",
    "Modify the image by adding a constant value of 0.25 to each pixel in the `img` and\n",
    "store the result in the variable `img_add`. Note that, since the range for the pixels \n",
    "needs to be between [0, 1], you will also need to clip img_add to be in the range [0, 1] \n",
    "using `numpy.clip`. Clipping sets any value that is outside of the desired range to the \n",
    "closest endpoint. Display the image using `plt.imshow`."
   ]
  },
  {
   "cell_type": "code",
   "execution_count": 28,
   "metadata": {
    "id": "GWBhZay2bzJC",
    "jupyter": {
     "outputs_hidden": true
    }
   },
   "outputs": [
    {
     "data": {
      "text/plain": [
       "<matplotlib.image.AxesImage at 0x7fa2e82c7670>"
      ]
     },
     "execution_count": 28,
     "metadata": {},
     "output_type": "execute_result"
    },
    {
     "data": {
      "image/png": "[encoded data removed]",
      "text/plain": [
       "<Figure size 432x288 with 1 Axes>"
      ]
     },
     "metadata": {
      "needs_background": "light"
     },
     "output_type": "display_data"
    }
   ],
   "source": [
    "img_add = img + 0.25\n",
    "img_add = np.clip(img_add,0,1)\n",
    "plt.imshow(img_add)"
   ]
  },
  {
   "cell_type": "markdown",
   "metadata": {
    "id": "DeinKXBCbzJI"
   },
   "source": [
    "### Part (d) -- 2pt\n",
    "\n",
    "Crop the **original** image (`img` variable) to a 130 x 150 image including Mochi's face. Discard the alpha colour channel (i.e. resulting `img_cropped` should **only have RGB channels**)\n",
    "\n",
    "Display the image."
   ]
  },
  {
   "cell_type": "code",
   "execution_count": 29,
   "metadata": {},
   "outputs": [
    {
     "data": {
      "text/plain": [
       "<matplotlib.image.AxesImage at 0x7fa2f87c4df0>"
      ]
     },
     "execution_count": 29,
     "metadata": {},
     "output_type": "execute_result"
    },
    {
     "data": {
      "image/png": "[encoded data removed]",
      "text/plain": [
       "<Figure size 432x288 with 1 Axes>"
      ]
     },
     "metadata": {
      "needs_background": "light"
     },
     "output_type": "display_data"
    }
   ],
   "source": [
    "img_cropped = img[0:130,20:170]\n",
    "img_cropped = img_cropped[:,:,:3]\n",
    "plt.imshow(img_cropped)"
   ]
  },
  {
   "cell_type": "markdown",
   "metadata": {
    "id": "FmfE9CQdIGva"
   },
   "source": [
    "## Part 4. Basics of PyTorch [6 pt]\n",
    "\n",
    "PyTorch is a Python-based neural networks package. Along with tensorflow, PyTorch is currently one of the most popular machine learning libraries.\n",
    "\n",
    "PyTorch, at its core, is similar to Numpy in a sense that they both \n",
    "try to make it easier to write codes for scientific computing\n",
    "achieve improved performance over vanilla Python by leveraging highly optimized C back-end.\n",
    "However, compare to Numpy, PyTorch offers much better GPU support and provides many high-level features for machine learning. Technically, Numpy can be used to perform almost every thing PyTorch does. However, Numpy would be a lot slower than PyTorch, especially with CUDA GPU, and it would take more effort to write machine learning related code compared to using PyTorch."
   ]
  },
  {
   "cell_type": "code",
   "execution_count": 30,
   "metadata": {
    "id": "ppRPK-X2IGvb",
    "jupyter": {
     "outputs_hidden": true
    }
   },
   "outputs": [],
   "source": [
    "import torch"
   ]
  },
  {
   "cell_type": "markdown",
   "metadata": {
    "id": "DXrczIrSIGvf"
   },
   "source": [
    "### Part (a) -- 1 pt\n",
    "\n",
    "Use the function `torch.from_numpy` to convert the numpy array `img_cropped` into\n",
    "a PyTorch tensor. Save the result in a variable called `img_torch`."
   ]
  },
  {
   "cell_type": "code",
   "execution_count": 32,
   "metadata": {
    "id": "j9rYyf4gIGvj",
    "jupyter": {
     "outputs_hidden": true
    }
   },
   "outputs": [
    {
     "data": {
      "text/plain": [
       "tensor([[[0.5961, 0.3569, 0.1333],\n",
       "         [0.5804, 0.3412, 0.1176],\n",
       "         [0.5765, 0.3373, 0.1137],\n",
       "         ...,\n",
       "         [0.4941, 0.2549, 0.0824],\n",
       "         [0.4902, 0.2471, 0.0549],\n",
       "         [0.5098, 0.2667, 0.0745]],\n",
       "\n",
       "        [[0.6078, 0.3647, 0.1412],\n",
       "         [0.5882, 0.3451, 0.1216],\n",
       "         [0.5725, 0.3294, 0.1059],\n",
       "         ...,\n",
       "         [0.4824, 0.2431, 0.0706],\n",
       "         [0.4941, 0.2510, 0.0588],\n",
       "         [0.5098, 0.2667, 0.0745]],\n",
       "\n",
       "        [[0.6235, 0.3686, 0.1490],\n",
       "         [0.6000, 0.3451, 0.1255],\n",
       "         [0.5843, 0.3294, 0.1020],\n",
       "         ...,\n",
       "         [0.4824, 0.2431, 0.0706],\n",
       "         [0.5098, 0.2667, 0.0745],\n",
       "         [0.5137, 0.2706, 0.0784]],\n",
       "\n",
       "        ...,\n",
       "\n",
       "        [[0.6078, 0.3922, 0.1725],\n",
       "         [0.6196, 0.4039, 0.1843],\n",
       "         [0.6314, 0.4157, 0.1922],\n",
       "         ...,\n",
       "         [0.7176, 0.6000, 0.4588],\n",
       "         [0.7137, 0.6157, 0.4588],\n",
       "         [0.7373, 0.6392, 0.4824]],\n",
       "\n",
       "        [[0.6039, 0.3882, 0.1647],\n",
       "         [0.6196, 0.4078, 0.1725],\n",
       "         [0.6353, 0.4235, 0.1882],\n",
       "         ...,\n",
       "         [0.7333, 0.6157, 0.4667],\n",
       "         [0.7059, 0.6039, 0.4588],\n",
       "         [0.7373, 0.6353, 0.4902]],\n",
       "\n",
       "        [[0.6157, 0.4039, 0.1686],\n",
       "         [0.6275, 0.4157, 0.1725],\n",
       "         [0.6392, 0.4275, 0.1843],\n",
       "         ...,\n",
       "         [0.7176, 0.6078, 0.4510],\n",
       "         [0.7059, 0.6118, 0.4706],\n",
       "         [0.7137, 0.6196, 0.4784]]])"
      ]
     },
     "execution_count": 32,
     "metadata": {},
     "output_type": "execute_result"
    }
   ],
   "source": [
    "img_torch = torch.from_numpy(img_cropped)\n",
    "img_torch"
   ]
  },
  {
   "cell_type": "markdown",
   "metadata": {
    "id": "zrpPeRKtIGvn"
   },
   "source": [
    "### Part (b) -- 1pt\n",
    "\n",
    "Use the method `<Tensor>.shape` to find the shape (dimension and size) of `img_torch`.\n",
    "\n",
    "A)\n",
    "The shape is [130, 150, 3]"
   ]
  },
  {
   "cell_type": "code",
   "execution_count": 33,
   "metadata": {
    "id": "ws7G_aaxIGvn",
    "jupyter": {
     "outputs_hidden": true
    }
   },
   "outputs": [
    {
     "data": {
      "text/plain": [
       "torch.Size([130, 150, 3])"
      ]
     },
     "execution_count": 33,
     "metadata": {},
     "output_type": "execute_result"
    }
   ],
   "source": [
    "img_torch.shape"
   ]
  },
  {
   "cell_type": "markdown",
   "metadata": {
    "id": "uorV8t1pIGvp"
   },
   "source": [
    "### Part (c) -- 1pt\n",
    "\n",
    "How many floating-point numbers are stored in the tensor `img_torch`?"
   ]
  },
  {
   "cell_type": "code",
   "execution_count": 21,
   "metadata": {
    "id": "sucaE_VCIGvq",
    "jupyter": {
     "outputs_hidden": true
    }
   },
   "outputs": [
    {
     "data": {
      "text/plain": [
       "58500"
      ]
     },
     "execution_count": 21,
     "metadata": {},
     "output_type": "execute_result"
    }
   ],
   "source": [
    "img_torch.numel()"
   ]
  },
  {
   "cell_type": "markdown",
   "metadata": {
    "id": "sIcXGdg5IGvu"
   },
   "source": [
    "### Part (d) -- 1 pt\n",
    "\n",
    "What does the code `img_torch.transpose(0,2)` do? What does the expression return? \n",
    "Is the original variable `img_torch` updated? Explain.\n",
    "\n",
    "A) The expression rearranges the img_torch tensor to interchange its first and third dimensions. It does not update the original img_torch variable, however, as seen by the outputs of the print statements below."
   ]
  },
  {
   "cell_type": "code",
   "execution_count": 110,
   "metadata": {
    "id": "omOJqIhEIGvu",
    "jupyter": {
     "outputs_hidden": true
    }
   },
   "outputs": [
    {
     "name": "stdout",
     "output_type": "stream",
     "text": [
      "torch.Size([3, 150, 130])\n",
      "transpose =  tensor([[[0.5882, 0.5412, 0.6157,  ..., 0.6039, 0.5882, 0.5804],\n",
      "         [0.5765, 0.5647, 0.6196,  ..., 0.6078, 0.6078, 0.6039],\n",
      "         [0.5569, 0.5961, 0.6196,  ..., 0.6118, 0.6196, 0.6235],\n",
      "         ...,\n",
      "         [0.5804, 0.5882, 0.5922,  ..., 0.3804, 0.3882, 0.4196],\n",
      "         [0.6039, 0.6078, 0.6157,  ..., 0.3765, 0.3804, 0.4039],\n",
      "         [0.6157, 0.6196, 0.6275,  ..., 0.3765, 0.3804, 0.3961]],\n",
      "\n",
      "        [[0.3725, 0.3216, 0.3765,  ..., 0.3882, 0.3725, 0.3647],\n",
      "         [0.3608, 0.3451, 0.3843,  ..., 0.3922, 0.3922, 0.3882],\n",
      "         [0.3412, 0.3765, 0.3843,  ..., 0.3961, 0.4039, 0.4078],\n",
      "         ...,\n",
      "         [0.3412, 0.3490, 0.3529,  ..., 0.3098, 0.3176, 0.3373],\n",
      "         [0.3647, 0.3686, 0.3765,  ..., 0.3059, 0.3098, 0.3216],\n",
      "         [0.3765, 0.3804, 0.3882,  ..., 0.3098, 0.3098, 0.3137]],\n",
      "\n",
      "        [[0.1490, 0.0902, 0.1529,  ..., 0.1686, 0.1529, 0.1451],\n",
      "         [0.1373, 0.1137, 0.1490,  ..., 0.1686, 0.1725, 0.1686],\n",
      "         [0.1176, 0.1451, 0.1412,  ..., 0.1725, 0.1804, 0.1882],\n",
      "         ...,\n",
      "         [0.1294, 0.1373, 0.1373,  ..., 0.2157, 0.2314, 0.2549],\n",
      "         [0.1529, 0.1569, 0.1608,  ..., 0.2118, 0.2157, 0.2392],\n",
      "         [0.1647, 0.1686, 0.1725,  ..., 0.2078, 0.2157, 0.2314]]])\n",
      "img_torch =  tensor([[[0.5882, 0.3725, 0.1490],\n",
      "         [0.5765, 0.3608, 0.1373],\n",
      "         [0.5569, 0.3412, 0.1176],\n",
      "         ...,\n",
      "         [0.5804, 0.3412, 0.1294],\n",
      "         [0.6039, 0.3647, 0.1529],\n",
      "         [0.6157, 0.3765, 0.1647]],\n",
      "\n",
      "        [[0.5412, 0.3216, 0.0902],\n",
      "         [0.5647, 0.3451, 0.1137],\n",
      "         [0.5961, 0.3765, 0.1451],\n",
      "         ...,\n",
      "         [0.5882, 0.3490, 0.1373],\n",
      "         [0.6078, 0.3686, 0.1569],\n",
      "         [0.6196, 0.3804, 0.1686]],\n",
      "\n",
      "        [[0.6157, 0.3765, 0.1529],\n",
      "         [0.6196, 0.3843, 0.1490],\n",
      "         [0.6196, 0.3843, 0.1412],\n",
      "         ...,\n",
      "         [0.5922, 0.3529, 0.1373],\n",
      "         [0.6157, 0.3765, 0.1608],\n",
      "         [0.6275, 0.3882, 0.1725]],\n",
      "\n",
      "        ...,\n",
      "\n",
      "        [[0.6039, 0.3882, 0.1686],\n",
      "         [0.6078, 0.3922, 0.1686],\n",
      "         [0.6118, 0.3961, 0.1725],\n",
      "         ...,\n",
      "         [0.3804, 0.3098, 0.2157],\n",
      "         [0.3765, 0.3059, 0.2118],\n",
      "         [0.3765, 0.3098, 0.2078]],\n",
      "\n",
      "        [[0.5882, 0.3725, 0.1529],\n",
      "         [0.6078, 0.3922, 0.1725],\n",
      "         [0.6196, 0.4039, 0.1804],\n",
      "         ...,\n",
      "         [0.3882, 0.3176, 0.2314],\n",
      "         [0.3804, 0.3098, 0.2157],\n",
      "         [0.3804, 0.3098, 0.2157]],\n",
      "\n",
      "        [[0.5804, 0.3647, 0.1451],\n",
      "         [0.6039, 0.3882, 0.1686],\n",
      "         [0.6235, 0.4078, 0.1882],\n",
      "         ...,\n",
      "         [0.4196, 0.3373, 0.2549],\n",
      "         [0.4039, 0.3216, 0.2392],\n",
      "         [0.3961, 0.3137, 0.2314]]])\n"
     ]
    }
   ],
   "source": [
    "transpose = img_torch.transpose(0,2)\n",
    "print(transpose.shape)\n",
    "print(\"transpose = \", transpose)\n",
    "print(\"img_torch = \", img_torch)"
   ]
  },
  {
   "cell_type": "markdown",
   "metadata": {
    "id": "lHrzC0EqIGvx"
   },
   "source": [
    "### Part (e) -- 1 pt\n",
    "\n",
    "What does the code `img_torch.unsqueeze(0)` do? What does the expression return? \n",
    "Is the original variable `img_torch` updated? Explain.\n",
    "\n",
    "A) The code inserts a dimension into the img_torch variable at position 0. It does not update the original img_torch variable, however, as seen by the outputs of the print statements below."
   ]
  },
  {
   "cell_type": "code",
   "execution_count": 100,
   "metadata": {
    "id": "ZFePj7E5IGvz",
    "jupyter": {
     "outputs_hidden": true
    }
   },
   "outputs": [
    {
     "name": "stdout",
     "output_type": "stream",
     "text": [
      "unsqueezed =  tensor([[[[0.5882, 0.3725, 0.1490],\n",
      "          [0.5765, 0.3608, 0.1373],\n",
      "          [0.5569, 0.3412, 0.1176],\n",
      "          ...,\n",
      "          [0.5804, 0.3412, 0.1294],\n",
      "          [0.6039, 0.3647, 0.1529],\n",
      "          [0.6157, 0.3765, 0.1647]],\n",
      "\n",
      "         [[0.5412, 0.3216, 0.0902],\n",
      "          [0.5647, 0.3451, 0.1137],\n",
      "          [0.5961, 0.3765, 0.1451],\n",
      "          ...,\n",
      "          [0.5882, 0.3490, 0.1373],\n",
      "          [0.6078, 0.3686, 0.1569],\n",
      "          [0.6196, 0.3804, 0.1686]],\n",
      "\n",
      "         [[0.6157, 0.3765, 0.1529],\n",
      "          [0.6196, 0.3843, 0.1490],\n",
      "          [0.6196, 0.3843, 0.1412],\n",
      "          ...,\n",
      "          [0.5922, 0.3529, 0.1373],\n",
      "          [0.6157, 0.3765, 0.1608],\n",
      "          [0.6275, 0.3882, 0.1725]],\n",
      "\n",
      "         ...,\n",
      "\n",
      "         [[0.6039, 0.3882, 0.1686],\n",
      "          [0.6078, 0.3922, 0.1686],\n",
      "          [0.6118, 0.3961, 0.1725],\n",
      "          ...,\n",
      "          [0.3804, 0.3098, 0.2157],\n",
      "          [0.3765, 0.3059, 0.2118],\n",
      "          [0.3765, 0.3098, 0.2078]],\n",
      "\n",
      "         [[0.5882, 0.3725, 0.1529],\n",
      "          [0.6078, 0.3922, 0.1725],\n",
      "          [0.6196, 0.4039, 0.1804],\n",
      "          ...,\n",
      "          [0.3882, 0.3176, 0.2314],\n",
      "          [0.3804, 0.3098, 0.2157],\n",
      "          [0.3804, 0.3098, 0.2157]],\n",
      "\n",
      "         [[0.5804, 0.3647, 0.1451],\n",
      "          [0.6039, 0.3882, 0.1686],\n",
      "          [0.6235, 0.4078, 0.1882],\n",
      "          ...,\n",
      "          [0.4196, 0.3373, 0.2549],\n",
      "          [0.4039, 0.3216, 0.2392],\n",
      "          [0.3961, 0.3137, 0.2314]]]])\n",
      "img_torch = tensor([[[0.5882, 0.3725, 0.1490],\n",
      "         [0.5765, 0.3608, 0.1373],\n",
      "         [0.5569, 0.3412, 0.1176],\n",
      "         ...,\n",
      "         [0.5804, 0.3412, 0.1294],\n",
      "         [0.6039, 0.3647, 0.1529],\n",
      "         [0.6157, 0.3765, 0.1647]],\n",
      "\n",
      "        [[0.5412, 0.3216, 0.0902],\n",
      "         [0.5647, 0.3451, 0.1137],\n",
      "         [0.5961, 0.3765, 0.1451],\n",
      "         ...,\n",
      "         [0.5882, 0.3490, 0.1373],\n",
      "         [0.6078, 0.3686, 0.1569],\n",
      "         [0.6196, 0.3804, 0.1686]],\n",
      "\n",
      "        [[0.6157, 0.3765, 0.1529],\n",
      "         [0.6196, 0.3843, 0.1490],\n",
      "         [0.6196, 0.3843, 0.1412],\n",
      "         ...,\n",
      "         [0.5922, 0.3529, 0.1373],\n",
      "         [0.6157, 0.3765, 0.1608],\n",
      "         [0.6275, 0.3882, 0.1725]],\n",
      "\n",
      "        ...,\n",
      "\n",
      "        [[0.6039, 0.3882, 0.1686],\n",
      "         [0.6078, 0.3922, 0.1686],\n",
      "         [0.6118, 0.3961, 0.1725],\n",
      "         ...,\n",
      "         [0.3804, 0.3098, 0.2157],\n",
      "         [0.3765, 0.3059, 0.2118],\n",
      "         [0.3765, 0.3098, 0.2078]],\n",
      "\n",
      "        [[0.5882, 0.3725, 0.1529],\n",
      "         [0.6078, 0.3922, 0.1725],\n",
      "         [0.6196, 0.4039, 0.1804],\n",
      "         ...,\n",
      "         [0.3882, 0.3176, 0.2314],\n",
      "         [0.3804, 0.3098, 0.2157],\n",
      "         [0.3804, 0.3098, 0.2157]],\n",
      "\n",
      "        [[0.5804, 0.3647, 0.1451],\n",
      "         [0.6039, 0.3882, 0.1686],\n",
      "         [0.6235, 0.4078, 0.1882],\n",
      "         ...,\n",
      "         [0.4196, 0.3373, 0.2549],\n",
      "         [0.4039, 0.3216, 0.2392],\n",
      "         [0.3961, 0.3137, 0.2314]]])\n"
     ]
    }
   ],
   "source": [
    "unsqueezed = img_torch.unsqueeze(0)\n",
    "print(\"unsqueezed = \", unsqueezed)\n",
    "print(\"img_torch =\", img_torch)"
   ]
  },
  {
   "cell_type": "markdown",
   "metadata": {
    "id": "re16jTB9IGv0"
   },
   "source": [
    "### Part (f) -- 1 pt\n",
    "\n",
    "Find the maximum value of `img_torch` along each colour channel? Your output should be a one-dimensional\n",
    "PyTorch tensor with exactly three values.\n",
    "\n",
    "Hint: lookup the function `torch.max`.\n",
    "\n",
    "A)\n",
    "\n",
    "The output is tensor([0.8941, 0.7882, 0.6745])"
   ]
  },
  {
   "cell_type": "code",
   "execution_count": 116,
   "metadata": {},
   "outputs": [
    {
     "data": {
      "text/plain": [
       "tensor([0.8941, 0.7882, 0.6745])"
      ]
     },
     "execution_count": 116,
     "metadata": {},
     "output_type": "execute_result"
    }
   ],
   "source": [
    "torch.amax(transpose, dim=(1, 2))"
   ]
  },
  {
   "cell_type": "markdown",
   "metadata": {
    "id": "3hhA2sX0au0D"
   },
   "source": [
    "## Part 5. Training an ANN [10 pt]\n",
    "\n",
    "The sample code provided below is a 2-layer ANN trained on the MNIST dataset to identify digits less than 3 or greater than and equal to 3. Modify the code by changing any of the following and observe how the accuracy and error are affected:\n",
    "\n",
    "- number of training iterations\n",
    "- number of hidden units\n",
    "- numbers of layers\n",
    "- types of activation functions\n",
    "- learning rate\n",
    "\n",
    "Please select at least three different options from the list above. For each option, please select two to three different parameters and provide a table. \n"
   ]
  },
  {
   "cell_type": "code",
   "execution_count": 50,
   "metadata": {
    "id": "GGtthiz1tDh5",
    "jupyter": {
     "outputs_hidden": true
    }
   },
   "outputs": [
    {
     "name": "stdout",
     "output_type": "stream",
     "text": [
      "Training Error Rate: 0.036\n",
      "Training Accuracy: 0.964\n",
      "Test Error Rate: 0.0736\n",
      "Test Accuracy: 0.9264\n"
     ]
    }
   ],
   "source": [
    "import torch\n",
    "import torch.nn as nn\n",
    "import torch.nn.functional as F\n",
    "from torchvision import datasets, transforms\n",
    "import matplotlib.pyplot as plt # for plotting\n",
    "import torch.optim as optim\n",
    "\n",
    "torch.manual_seed(1) # set the random seed\n",
    "\n",
    "# define a 2-layer artificial neural network\n",
    "class Pigeon(nn.Module):\n",
    "    def __init__(self):\n",
    "        super(Pigeon, self).__init__()\n",
    "        self.layer1 = nn.Linear(28 * 28, 30)\n",
    "        self.layer2 = nn.Linear(30, 1)\n",
    "    def forward(self, img):\n",
    "        flattened = img.view(-1, 28 * 28)\n",
    "        activation1 = self.layer1(flattened)\n",
    "        activation1 = F.relu(activation1)\n",
    "        activation2 = self.layer2(activation1)\n",
    "        return activation2\n",
    "\n",
    "pigeon = Pigeon()\n",
    "\n",
    "# load the data\n",
    "mnist_data = datasets.MNIST('data', train=True, download=True)\n",
    "mnist_data = list(mnist_data)\n",
    "mnist_train = mnist_data[:1000]\n",
    "mnist_val   = mnist_data[10000:20000]\n",
    "img_to_tensor = transforms.ToTensor()\n",
    "      \n",
    "    \n",
    "# simplified training code to train `pigeon` on the \"small digit recognition\" task\n",
    "criterion = nn.BCEWithLogitsLoss()\n",
    "optimizer = optim.SGD(pigeon.parameters(), lr=0.005, momentum=0.9)\n",
    "\n",
    "for (image, label) in mnist_train:\n",
    "    # actual ground truth: is the digit less than 3?\n",
    "    actual = torch.tensor(label < 3).reshape([1,1]).type(torch.FloatTensor)\n",
    "    # pigeon prediction\n",
    "    out = pigeon(img_to_tensor(image)) # step 1-2\n",
    "    # update the parameters based on the loss\n",
    "    loss = criterion(out, actual)      # step 3\n",
    "    loss.backward()                    # step 4 (compute the updates for each parameter)\n",
    "    optimizer.step()                   # step 4 (make the updates for each parameter)\n",
    "    optimizer.zero_grad()              # a clean up step for PyTorch\n",
    "\n",
    "# computing the error and accuracy on the training set\n",
    "error = 0\n",
    "for (image, label) in mnist_train:\n",
    "    prob = torch.sigmoid(pigeon(img_to_tensor(image)))\n",
    "    if (prob < 0.5 and label < 3) or (prob >= 0.5 and label >= 3):\n",
    "        error += 1\n",
    "print(\"Training Error Rate:\", error/len(mnist_train))\n",
    "print(\"Training Accuracy:\", 1 - error/len(mnist_train))\n",
    "\n",
    "\n",
    "# computing the error and accuracy on a test set\n",
    "error = 0\n",
    "for (image, label) in mnist_val:\n",
    "    prob = torch.sigmoid(pigeon(img_to_tensor(image)))\n",
    "    if (prob < 0.5 and label < 3) or (prob >= 0.5 and label >= 3):\n",
    "        error += 1\n",
    "print(\"Test Error Rate:\", error/len(mnist_val))\n",
    "print(\"Test Accuracy:\", 1 - error/len(mnist_val))"
   ]
  },
  {
   "cell_type": "markdown",
   "metadata": {
    "id": "3hhA2sX0au0D"
   },
   "source": [
    "## Part 5a. Results\n",
    "\n",
    "For Training Set\n",
    "\n",
    "| Hyperparameter | Hyperparameter Values | Accuracy |\n",
    "| :-: | :-: | :-: |\n",
    "| Number of Iterations | [1000,2000,10000] | [96.4%, 95.8%, 97.52%] |\n",
    "| Activation Function | [Relu, Sigmoid] | [96.4%, 92.7%] |\n",
    "| Learning Rate | [0.0025, 0.005, 0.010] | [96.5%, 96.4%, 96.1%] |"
   ]
  },
  {
   "cell_type": "markdown",
   "metadata": {
    "id": "viYKlFupcgF3"
   },
   "source": [
    "### Part (a) -- 3 pt\n",
    "Comment on which of the above changes resulted in the best accuracy on training data? What accuracy were you able to achieve?\n",
    "\n",
    "A)\n",
    "\n",
    "The increase in number of iterations gave the best accuracy on training data -- 97.52% at 10,000 iterations. This was achieved using the code below.\n",
    "\n"
   ]
  },
  {
   "cell_type": "code",
   "execution_count": 133,
   "metadata": {
    "id": "FMgRXRqiqAEx",
    "jupyter": {
     "outputs_hidden": true
    }
   },
   "outputs": [
    {
     "name": "stdout",
     "output_type": "stream",
     "text": [
      "Training Error Rate: 0.0248\n",
      "Training Accuracy: 0.9752\n",
      "Test Error Rate: 0.0357\n",
      "Test Accuracy: 0.9643\n"
     ]
    }
   ],
   "source": [
    "import torch\n",
    "import torch.nn as nn\n",
    "import torch.nn.functional as F\n",
    "from torchvision import datasets, transforms\n",
    "import matplotlib.pyplot as plt # for plotting\n",
    "import torch.optim as optim\n",
    "\n",
    "torch.manual_seed(1) # set the random seed\n",
    "\n",
    "# define a 2-layer artificial neural network\n",
    "class Pigeon(nn.Module):\n",
    "    def __init__(self):\n",
    "        super(Pigeon, self).__init__()\n",
    "        self.layer1 = nn.Linear(28 * 28, 30)\n",
    "        self.layer2 = nn.Linear(30, 1)\n",
    "    def forward(self, img):\n",
    "        flattened = img.view(-1, 28 * 28)\n",
    "        activation1 = self.layer1(flattened)\n",
    "        activation1 = F.relu(activation1)\n",
    "        activation2 = self.layer2(activation1)\n",
    "        return activation2\n",
    "\n",
    "pigeon = Pigeon()\n",
    "\n",
    "# load the data\n",
    "mnist_data = datasets.MNIST('data', train=True, download=True)\n",
    "mnist_data = list(mnist_data)\n",
    "mnist_train = mnist_data[:10000]\n",
    "mnist_val   = mnist_data[10001:20001]\n",
    "img_to_tensor = transforms.ToTensor()\n",
    "      \n",
    "    \n",
    "# simplified training code to train `pigeon` on the \"small digit recognition\" task\n",
    "criterion = nn.BCEWithLogitsLoss()\n",
    "optimizer = optim.SGD(pigeon.parameters(), lr=0.005, momentum=0.9)\n",
    "\n",
    "for (image, label) in mnist_train:\n",
    "    # actual ground truth: is the digit less than 3?\n",
    "    actual = torch.tensor(label < 3).reshape([1,1]).type(torch.FloatTensor)\n",
    "    # pigeon prediction\n",
    "    out = pigeon(img_to_tensor(image)) # step 1-2\n",
    "    # update the parameters based on the loss\n",
    "    loss = criterion(out, actual)      # step 3\n",
    "    loss.backward()                    # step 4 (compute the updates for each parameter)\n",
    "    optimizer.step()                   # step 4 (make the updates for each parameter)\n",
    "    optimizer.zero_grad()              # a clean up step for PyTorch\n",
    "\n",
    "# computing the error and accuracy on the training set\n",
    "error = 0\n",
    "for (image, label) in mnist_train:\n",
    "    prob = torch.sigmoid(pigeon(img_to_tensor(image)))\n",
    "    if (prob < 0.5 and label < 3) or (prob >= 0.5 and label >= 3):\n",
    "        error += 1\n",
    "print(\"Training Error Rate:\", error/len(mnist_train))\n",
    "print(\"Training Accuracy:\", 1 - error/len(mnist_train))\n",
    "\n",
    "\n",
    "# computing the error and accuracy on a test set\n",
    "error = 0\n",
    "for (image, label) in mnist_val:\n",
    "    prob = torch.sigmoid(pigeon(img_to_tensor(image)))\n",
    "    if (prob < 0.5 and label < 3) or (prob >= 0.5 and label >= 3):\n",
    "        error += 1\n",
    "print(\"Test Error Rate:\", error/len(mnist_val))\n",
    "print(\"Test Accuracy:\", 1 - error/len(mnist_val))"
   ]
  },
  {
   "cell_type": "markdown",
   "metadata": {
    "id": "pi6bWs7jcIem"
   },
   "source": [
    "### Part (b) -- 3 pt\n",
    "\n",
    "\n",
    "Comment on which of the above changes resulted in the best accuracy on testing data? What accuracy were you able to achieve?\n",
    "\n",
    "A)\n",
    "\n",
    "For Testing Set, we set validation data as mnist_data[10001:20001] for all tests because training iterations were varied till the first 10,000 points.\n",
    "\n",
    "| Hyperparameter | Hyperparameter Values | Accuracy |\n",
    "| :-: | :-: | :-: |\n",
    "| Number of Training Iterations | [1000,2000,10000] | [92.64%, 95.02%, 96.43%] |\n",
    "| Activation Function | [Relu, Sigmoid] | [92.64%, 88.9%] |\n",
    "| Learning Rate | [0.0025, 0.005, 0.010] | [92.12%, 92.64%, 92.64%] |\n",
    "\n",
    "Again, the increase in number of training iterations to 10,000 gave the highest accuracy result, with an accuracy of 96.43%. The code yielding this result is placed below."
   ]
  },
  {
   "cell_type": "code",
   "execution_count": 134,
   "metadata": {
    "id": "QtyIrtuNqAh0",
    "jupyter": {
     "outputs_hidden": true
    }
   },
   "outputs": [
    {
     "name": "stdout",
     "output_type": "stream",
     "text": [
      "Training Error Rate: 0.0248\n",
      "Training Accuracy: 0.9752\n",
      "Test Error Rate: 0.0357\n",
      "Test Accuracy: 0.9643\n"
     ]
    }
   ],
   "source": [
    "import torch\n",
    "import torch.nn as nn\n",
    "import torch.nn.functional as F\n",
    "from torchvision import datasets, transforms\n",
    "import matplotlib.pyplot as plt # for plotting\n",
    "import torch.optim as optim\n",
    "\n",
    "torch.manual_seed(1) # set the random seed\n",
    "\n",
    "# define a 2-layer artificial neural network\n",
    "class Pigeon(nn.Module):\n",
    "    def __init__(self):\n",
    "        super(Pigeon, self).__init__()\n",
    "        self.layer1 = nn.Linear(28 * 28, 30)\n",
    "        self.layer2 = nn.Linear(30, 1)\n",
    "    def forward(self, img):\n",
    "        flattened = img.view(-1, 28 * 28)\n",
    "        activation1 = self.layer1(flattened)\n",
    "        activation1 = F.relu(activation1)\n",
    "        activation2 = self.layer2(activation1)\n",
    "        return activation2\n",
    "\n",
    "pigeon = Pigeon()\n",
    "\n",
    "# load the data\n",
    "mnist_data = datasets.MNIST('data', train=True, download=True)\n",
    "mnist_data = list(mnist_data)\n",
    "mnist_train = mnist_data[:10000]\n",
    "mnist_val   = mnist_data[10001:20001]\n",
    "img_to_tensor = transforms.ToTensor()\n",
    "      \n",
    "    \n",
    "# simplified training code to train `pigeon` on the \"small digit recognition\" task\n",
    "criterion = nn.BCEWithLogitsLoss()\n",
    "optimizer = optim.SGD(pigeon.parameters(), lr=0.005, momentum=0.9)\n",
    "\n",
    "for (image, label) in mnist_train:\n",
    "    # actual ground truth: is the digit less than 3?\n",
    "    actual = torch.tensor(label < 3).reshape([1,1]).type(torch.FloatTensor)\n",
    "    # pigeon prediction\n",
    "    out = pigeon(img_to_tensor(image)) # step 1-2\n",
    "    # update the parameters based on the loss\n",
    "    loss = criterion(out, actual)      # step 3\n",
    "    loss.backward()                    # step 4 (compute the updates for each parameter)\n",
    "    optimizer.step()                   # step 4 (make the updates for each parameter)\n",
    "    optimizer.zero_grad()              # a clean up step for PyTorch\n",
    "\n",
    "# computing the error and accuracy on the training set\n",
    "error = 0\n",
    "for (image, label) in mnist_train:\n",
    "    prob = torch.sigmoid(pigeon(img_to_tensor(image)))\n",
    "    if (prob < 0.5 and label < 3) or (prob >= 0.5 and label >= 3):\n",
    "        error += 1\n",
    "print(\"Training Error Rate:\", error/len(mnist_train))\n",
    "print(\"Training Accuracy:\", 1 - error/len(mnist_train))\n",
    "\n",
    "\n",
    "# computing the error and accuracy on a test set\n",
    "error = 0\n",
    "for (image, label) in mnist_val:\n",
    "    prob = torch.sigmoid(pigeon(img_to_tensor(image)))\n",
    "    if (prob < 0.5 and label < 3) or (prob >= 0.5 and label >= 3):\n",
    "        error += 1\n",
    "print(\"Test Error Rate:\", error/len(mnist_val))\n",
    "print(\"Test Accuracy:\", 1 - error/len(mnist_val))"
   ]
  },
  {
   "cell_type": "markdown",
   "metadata": {
    "id": "j7W2k347wFqo"
   },
   "source": [
    "### Part (c) -- 4 pt\n",
    "Which model hyperparameters should you use, the ones from (a) or (b)?\n",
    "\n",
    "A) \n",
    "I would always choose the hyperparameters from part b (validation set). This is to minimize the scope for my model to overfit to the training data."
   ]
  }
 ],
 "metadata": {
  "colab": {
   "collapsed_sections": [],
   "name": "Lab_1_PyTorch_and_ANNs_Winter_2022 (2).ipynb",
   "provenance": []
  },
  "kernelspec": {
   "display_name": "Python 3 (ipykernel)",
   "language": "python",
   "name": "python3"
  },
  "language_info": {
   "codemirror_mode": {
    "name": "ipython",
    "version": 3
   },
   "file_extension": ".py",
   "mimetype": "text/x-python",
   "name": "python",
   "nbconvert_exporter": "python",
   "pygments_lexer": "ipython3",
   "version": "3.9.12"
  }
 },
 "nbformat": 4,
 "nbformat_minor": 4
}
