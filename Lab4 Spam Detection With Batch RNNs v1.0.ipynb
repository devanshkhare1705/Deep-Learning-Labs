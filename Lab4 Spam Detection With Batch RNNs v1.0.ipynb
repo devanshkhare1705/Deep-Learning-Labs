{
  "cells": [
    {
      "cell_type": "markdown",
      "metadata": {
        "id": "_bphECiUa9zw"
      },
      "source": [
        "# Lab 4: Spam Detection\n",
        "\n",
        "In this assignment, we will build a recurrent neural network to classify a SMS text message\n",
        "as \"spam\" or \"not spam\". In the process, you will\n",
        "    \n",
        "1. Clean and process text data for machine learning.\n",
        "2. Understand and implement a character-level recurrent neural network.\n",
        "3. Use torchtext to build recurrent neural network models.\n",
        "4. Understand batching for a recurrent neural network, and use torchtext to implement RNN batching.\n",
        "\n",
        "### What to submit\n",
        "\n",
        "Submit a PDF file containing all your code, outputs, and write-up. You can produce a PDF of your Google Colab file by going to File > Print and then save as PDF. The Colab instructions have more information.\n",
        "\n",
        "Do not submit any other files produced by your code.\n",
        "\n",
        "Include a link to your colab file in your submission."
      ]
    },
    {
      "cell_type": "markdown",
      "metadata": {
        "id": "rWiUqJJTa9z6"
      },
      "source": [
        "## Colab Link\n",
        "\n",
        "Include a link to your Colab file here. If you would like the TA to look at your\n",
        "Colab file in case your solutions are cut off, **please make sure that your Colab\n",
        "file is publicly accessible at the time of submission**."
      ]
    },
    {
      "cell_type": "markdown",
      "metadata": {
        "id": "UTXc-SnSRi0R"
      },
      "source": [
        "Colab Link: https://drive.google.com/file/d/1JPc-XjSu28LyM1iNf9mSp4LRnx9BwajJ/view?usp=sharing"
      ]
    },
    {
      "cell_type": "markdown",
      "metadata": {
        "id": "cxhiZtKCRi0R"
      },
      "source": [
        "As we are using the older version of the torchtext, please run the following to downgrade the torchtext version:"
      ]
    },
    {
      "cell_type": "markdown",
      "metadata": {
        "id": "laF5Kxz-Ri0S"
      },
      "source": [
        "!pip install -U torch==1.8.0 torchtext==0.9.0 -f https://download.pytorch.org/whl/torch_stable.html"
      ]
    },
    {
      "cell_type": "code",
      "source": [
        "!pip install -U torch==1.8.0 torchtext==0.9.0 -f https://download.pytorch.org/whl/torch_stable.html"
      ],
      "metadata": {
        "colab": {
          "base_uri": "https://localhost:8080/"
        },
        "id": "h2ptQvD4Rz9u",
        "outputId": "1154696f-3761-4e9e-e778-7168f2076c3e"
      },
      "execution_count": null,
      "outputs": [
        {
          "output_type": "stream",
          "name": "stdout",
          "text": [
            "Looking in indexes: https://pypi.org/simple, https://us-python.pkg.dev/colab-wheels/public/simple/\n",
            "Looking in links: https://download.pytorch.org/whl/torch_stable.html\n",
            "Requirement already satisfied: torch==1.8.0 in /usr/local/lib/python3.7/dist-packages (1.8.0+rocm4.0.1)\n",
            "Requirement already satisfied: torchtext==0.9.0 in /usr/local/lib/python3.7/dist-packages (0.9.0)\n",
            "Requirement already satisfied: numpy in /usr/local/lib/python3.7/dist-packages (from torch==1.8.0) (1.21.6)\n",
            "Requirement already satisfied: typing-extensions in /usr/local/lib/python3.7/dist-packages (from torch==1.8.0) (4.1.1)\n",
            "Requirement already satisfied: tqdm in /usr/local/lib/python3.7/dist-packages (from torchtext==0.9.0) (4.64.1)\n",
            "Requirement already satisfied: requests in /usr/local/lib/python3.7/dist-packages (from torchtext==0.9.0) (2.23.0)\n",
            "Requirement already satisfied: certifi>=2017.4.17 in /usr/local/lib/python3.7/dist-packages (from requests->torchtext==0.9.0) (2022.9.24)\n",
            "Requirement already satisfied: urllib3!=1.25.0,!=1.25.1,<1.26,>=1.21.1 in /usr/local/lib/python3.7/dist-packages (from requests->torchtext==0.9.0) (1.24.3)\n",
            "Requirement already satisfied: chardet<4,>=3.0.2 in /usr/local/lib/python3.7/dist-packages (from requests->torchtext==0.9.0) (3.0.4)\n",
            "Requirement already satisfied: idna<3,>=2.5 in /usr/local/lib/python3.7/dist-packages (from requests->torchtext==0.9.0) (2.10)\n"
          ]
        }
      ]
    },
    {
      "cell_type": "markdown",
      "metadata": {
        "id": "nBpAxnqJRi0S"
      },
      "source": [
        "If you are interested to use the most recent version if torchtext, you can look at the following document to see how to convert the legacy version to the new version:\n",
        "https://colab.research.google.com/github/pytorch/text/blob/master/examples/legacy_tutorial/migration_tutorial.ipynb"
      ]
    },
    {
      "cell_type": "code",
      "execution_count": null,
      "metadata": {
        "colab": {
          "base_uri": "https://localhost:8080/"
        },
        "id": "HgfNOUaPa9z8",
        "tags": [],
        "outputId": "0a2d06b2-9910-4200-9a55-49392cbd2754"
      },
      "outputs": [
        {
          "output_type": "execute_result",
          "data": {
            "text/plain": [
              "<torch._C.Generator at 0x7fda1ac05190>"
            ]
          },
          "metadata": {},
          "execution_count": 1
        }
      ],
      "source": [
        "import torch\n",
        "import torch.nn as nn\n",
        "import torch.nn.functional as F\n",
        "import torch.optim as optim\n",
        "import numpy as np\n",
        "import matplotlib.pyplot as plt\n",
        "torch.manual_seed(42)"
      ]
    },
    {
      "cell_type": "markdown",
      "metadata": {
        "id": "M0jLI9LBa90C"
      },
      "source": [
        "## Part 1. Data Cleaning [15 pt]\n",
        "\n",
        "We will be using the \"SMS Spam Collection Data Set\" available at http://archive.ics.uci.edu/ml/datasets/SMS+Spam+Collection\n",
        "\n",
        "There is a link to download the \"Data Folder\" at the very top of the webpage. Download the zip file, unzip it, and upload the file `SMSSpamCollection` to Colab.    "
      ]
    },
    {
      "cell_type": "markdown",
      "metadata": {
        "id": "sSuF7C_Ga90E"
      },
      "source": [
        "### Part (a) [2 pt]\n",
        "\n",
        "Open up the file in Python, and print out one example of a spam SMS, and one example of a non-spam SMS.\n",
        "\n",
        "What is the label value for a spam message, and what is the label value for a non-spam message?\n",
        "\n",
        "A)\n",
        "\n",
        "Label for spam = spam\n",
        "\n",
        "Label for non-spam = ham"
      ]
    },
    {
      "cell_type": "code",
      "execution_count": null,
      "metadata": {
        "colab": {
          "base_uri": "https://localhost:8080/"
        },
        "id": "I_IfXHeTa90F",
        "jupyter": {
          "outputs_hidden": true
        },
        "outputId": "83f7ebae-5085-4f68-a501-d3af03bb48cd"
      },
      "outputs": [
        {
          "output_type": "stream",
          "name": "stdout",
          "text": [
            "Drive already mounted at /content/gdrive; to attempt to forcibly remount, call drive.mount(\"/content/gdrive\", force_remount=True).\n",
            "Ham Message =  ['ham', 'Go until jurong point, crazy.. Available only in bugis n great world la e buffet... Cine there got amore wat...\\n']\n",
            "Spam Message =  ['spam', \"Free entry in 2 a wkly comp to win FA Cup final tkts 21st May 2005. Text FA to 87121 to receive entry question(std txt rate)T&C's apply 08452810075over18's\\n\"]\n"
          ]
        }
      ],
      "source": [
        "from google.colab import drive\n",
        "drive.mount('/content/gdrive')\n",
        "\n",
        "spam_flag = False\n",
        "ham_flag = False\n",
        "\n",
        "for line in open('/content/gdrive/My Drive/SMSSpamCollection'):\n",
        "    msg = line.split('\\t')\n",
        "    if msg[0] == 'ham' and ham_flag == False:\n",
        "        print(\"Ham Message = \", msg)\n",
        "        ham_flag = True\n",
        "\n",
        "    elif msg[0] == 'spam' and spam_flag == False:\n",
        "        print(\"Spam Message = \", msg)\n",
        "        spam_flag = True\n",
        "\n",
        "    if ham_flag and spam_flag:\n",
        "        break"
      ]
    },
    {
      "cell_type": "markdown",
      "metadata": {
        "id": "AukA6vMVa90d"
      },
      "source": [
        "### Part (b) [1 pt]\n",
        "\n",
        "How many spam messages are there in the data set?\n",
        "How many non-spam messages are there in the data set?\n"
      ]
    },
    {
      "cell_type": "code",
      "execution_count": null,
      "metadata": {
        "colab": {
          "base_uri": "https://localhost:8080/"
        },
        "id": "LgsqyemVa90e",
        "jupyter": {
          "outputs_hidden": true
        },
        "outputId": "e656e65e-88b3-44f3-e6e4-2fcfe57a5d7d"
      },
      "outputs": [
        {
          "output_type": "stream",
          "name": "stdout",
          "text": [
            "# spams:  747\n",
            "# hams:  4827\n"
          ]
        }
      ],
      "source": [
        "spams = 0\n",
        "hams = 0\n",
        "\n",
        "for line in open('/content/gdrive/My Drive/SMSSpamCollection'):\n",
        "    msg = line.split('\\t')\n",
        "    if msg[0] == 'ham':\n",
        "        hams+=1\n",
        "\n",
        "    elif msg[0] == 'spam':\n",
        "        spams += 1\n",
        "\n",
        "print(\"# spams: \", spams)\n",
        "print(\"# hams: \", hams)"
      ]
    },
    {
      "cell_type": "markdown",
      "metadata": {
        "id": "d1WXxVt6a90h"
      },
      "source": [
        "### Part (c) [4 pt]\n",
        "\n",
        "We will be using the package `torchtext` to load, process, and batch the data.\n",
        "A tutorial to torchtext is available below. This tutorial uses the same\n",
        "Sentiment140 data set that we explored during lecture.\n",
        "\n",
        "https://medium.com/@sonicboom8/sentiment-analysis-torchtext-55fb57b1fab8\n",
        "\n",
        "Unlike what we did during lecture, we will be building a **character level RNN**.\n",
        "That is, we will treat each **character** as a token in our sequence,\n",
        "rather than each **word**.\n",
        "\n",
        "Identify two advantage and two disadvantage of modelling SMS text\n",
        "messages as a sequence of characters rather than a sequence of words.\n",
        "\n",
        "\n",
        "A)\n",
        "Advantages:\n",
        "\n",
        "1) Lesser memory will be needed to store embeddings because there are fewer possibilities for distinct characters than words\n",
        "\n",
        "2) Generalization to unknown words will be easier with character-level modelling, which is particularly relevant to texting because individuals may permute characters differently (intentionally or unintentionally) to express the same ideas/words during texting (e.g., \"hahahaha\" vs. \"haha\", \"texting\" vs. \"txtng\")  \n",
        "\n",
        "Disadvantages:\n",
        "\n",
        "1) With character-level modelling, the model will even accept non-words as words. This is an important issue because spam messages can often be intentionally poor in grammar to catch gullible individuals, and the model will not be able to filter for this\n",
        "\n",
        "2) Character-level modelling will prevent the model from inferring relationships between related words, weakening its predictive ability"
      ]
    },
    {
      "cell_type": "markdown",
      "metadata": {
        "id": "ie_D0bv9a90k"
      },
      "source": [
        "### Part (d) [1 pt]\n",
        "\n",
        "We will be loading our data set using `torchtext.data.TabularDataset`. The\n",
        "constructor will read directly from the `SMSSpamCollection` file.\n",
        "\n",
        "For the data file to be read successfuly, we\n",
        "need to specify the **fields** (columns) in the file.\n",
        "In our case, the dataset has two fields:\n",
        "\n",
        "- a text field containing the sms messages,\n",
        "- a label field which will be converted into a binary label.\n",
        "\n",
        "Split the dataset into `train`, `valid`, and `test`. Use a 60-20-20 split.\n",
        "You may find this torchtext API page helpful:\n",
        "https://torchtext.readthedocs.io/en/latest/data.html#dataset\n",
        "\n",
        "Hint: There is a `Dataset` method that can perform the random split for you."
      ]
    },
    {
      "cell_type": "code",
      "execution_count": null,
      "metadata": {
        "id": "rgObFkPHRi0X"
      },
      "outputs": [],
      "source": [
        "import torchtext\n",
        "\n",
        "text_field = torchtext.legacy.data.Field(sequential=True, tokenize=lambda x: x, include_lengths=True,\n",
        "                                  batch_first=True, use_vocab=True)\n",
        "label_field = torchtext.legacy.data.Field(sequential=False, use_vocab=False,\n",
        "                                   is_target=True, batch_first=True,\n",
        "                                   preprocessing=lambda x: int(x == 'spam'))\n",
        "\n",
        "fields = [('label', label_field), ('sms', text_field)]\n",
        "data = torchtext.legacy.data.TabularDataset('/content/gdrive/My Drive/SMSSpamCollection',\n",
        "                                        \"tsv\", fields)\n",
        "\n",
        "train, valid, test = data.split(split_ratio=[0.6, 0.2, 0.2])"
      ]
    },
    {
      "cell_type": "markdown",
      "metadata": {
        "id": "v6nP0Ks_a90o"
      },
      "source": [
        "### Part (e) [2 pt]\n",
        "\n",
        "You saw in part (b) that there are many more non-spam messages than spam messages.\n",
        "This **imbalance** in our training data will be problematic for training.\n",
        "We can fix this disparity by duplicating spam messages in the training set,\n",
        "so that the training set is roughly **balanced**.\n",
        "\n",
        "Explain why having a balanced training set is helpful for training our neural network.\n",
        "\n",
        "Note: if you are not sure, try removing the below code and train your mode.\n",
        "\n",
        "A)\n",
        "\n",
        "A balanced set reduces bias in predictions by preventing the model from orienting its weights towards the more frequent training label. In the absence of balance, the highest accuracy models could often simply predict the heavily-skewed classes, which would inhibit their generalizability."
      ]
    },
    {
      "cell_type": "code",
      "execution_count": null,
      "metadata": {
        "id": "FWvx9_rka90p",
        "jupyter": {
          "outputs_hidden": true
        }
      },
      "outputs": [],
      "source": [
        "# save the original training examples\n",
        "old_train_examples = train.examples\n",
        "# get all the spam messages in `train`\n",
        "train_spam = []\n",
        "for item in train.examples:\n",
        "    if item.label == 1:\n",
        "        train_spam.append(item)\n",
        "# duplicate each spam message 6 more times\n",
        "train.examples = old_train_examples + train_spam * 6"
      ]
    },
    {
      "cell_type": "markdown",
      "metadata": {
        "id": "j7eUmBEva90r"
      },
      "source": [
        "### Part (f) [1 pt]\n",
        "\n",
        "We need to build the vocabulary on the training data by running the below code.\n",
        "This finds all the possible character tokens in the training set.\n",
        "\n",
        "Explain what the variables `text_field.vocab.stoi` and `text_field.vocab.itos` represent.\n",
        "\n",
        "A)\n",
        "\n",
        "stoi is a dictionary of the numeric identifier of each character token. itos is a list of all character tokens found in the training set."
      ]
    },
    {
      "cell_type": "code",
      "execution_count": null,
      "metadata": {
        "colab": {
          "base_uri": "https://localhost:8080/"
        },
        "id": "8CQM8flKa90s",
        "jupyter": {
          "outputs_hidden": true
        },
        "outputId": "0d663498-6209-4c94-ff78-8b44cf09fca7"
      },
      "outputs": [
        {
          "output_type": "stream",
          "name": "stdout",
          "text": [
            "defaultdict(<bound method Vocab._default_unk_index of <torchtext.vocab.Vocab object at 0x7fda1a025dd0>>, {'<unk>': 0, '<pad>': 1, ' ': 2, 'e': 3, 'o': 4, 't': 5, 'a': 6, 'n': 7, 'r': 8, 'i': 9, 's': 10, 'l': 11, 'u': 12, 'h': 13, '0': 14, '.': 15, 'd': 16, 'm': 17, 'c': 18, 'y': 19, 'w': 20, 'p': 21, 'g': 22, '1': 23, 'f': 24, 'b': 25, '2': 26, 'T': 27, '8': 28, 'k': 29, 'E': 30, 'v': 31, '5': 32, 'S': 33, 'C': 34, 'O': 35, 'I': 36, '4': 37, 'N': 38, '7': 39, '3': 40, 'A': 41, 'x': 42, '6': 43, 'R': 44, ',': 45, '!': 46, 'P': 47, '9': 48, 'M': 49, 'W': 50, 'L': 51, 'H': 52, 'U': 53, 'D': 54, 'G': 55, 'B': 56, 'F': 57, 'Y': 58, '?': 59, \"'\": 60, '/': 61, '£': 62, '-': 63, '&': 64, ':': 65, 'z': 66, 'V': 67, 'X': 68, 'j': 69, 'K': 70, '*': 71, ')': 72, 'J': 73, ';': 74, '+': 75, '(': 76, 'q': 77, 'Q': 78, '#': 79, '\"': 80, '>': 81, '=': 82, '@': 83, 'Z': 84, 'ü': 85, '$': 86, '|': 87, '%': 88, '‘': 89, 'Ü': 90, '<': 91, '\\x92': 92, '[': 93, ']': 94, '“': 95, '_': 96, '…': 97, '\\x93': 98, '–': 99, 'é': 100, '\\t': 101, '\\n': 102, '\\\\': 103, '~': 104, '\\x91': 105, '\\x94': 106, '\\x96': 107, '’': 108, '»': 109, 'É': 110, 'è': 111, 'ì': 112, '—': 113})\n",
            "['<unk>', '<pad>', ' ', 'e', 'o', 't', 'a', 'n', 'r', 'i', 's', 'l', 'u', 'h', '0', '.', 'd', 'm', 'c', 'y', 'w', 'p', 'g', '1', 'f', 'b', '2', 'T', '8', 'k', 'E', 'v', '5', 'S', 'C', 'O', 'I', '4', 'N', '7', '3', 'A', 'x', '6', 'R', ',', '!', 'P', '9', 'M', 'W', 'L', 'H', 'U', 'D', 'G', 'B', 'F', 'Y', '?', \"'\", '/', '£', '-', '&', ':', 'z', 'V', 'X', 'j', 'K', '*', ')', 'J', ';', '+', '(', 'q', 'Q', '#', '\"', '>', '=', '@', 'Z', 'ü', '$', '|', '%', '‘', 'Ü', '<', '\\x92', '[', ']', '“', '_', '…', '\\x93', '–', 'é', '\\t', '\\n', '\\\\', '~', '\\x91', '\\x94', '\\x96', '’', '»', 'É', 'è', 'ì', '—']\n"
          ]
        }
      ],
      "source": [
        "text_field.build_vocab(train)\n",
        "print(text_field.vocab.stoi)\n",
        "print(text_field.vocab.itos)"
      ]
    },
    {
      "cell_type": "markdown",
      "metadata": {
        "id": "TC8WVE8Ua90u"
      },
      "source": [
        "### Part (g) [2 pt]\n",
        "\n",
        "The tokens `<unk>` and `<pad>` were not in our SMS text messages.\n",
        "What do these two values represent?\n",
        "\n",
        "A)\n",
        "`<unk>` represents the unknown token, for words outside our vocabulary.\n",
        "`<pad>` represents the tokens added for padding, so that each message's length is compatible with the chosen batch size."
      ]
    },
    {
      "cell_type": "markdown",
      "metadata": {
        "id": "Ff5CNk7Qa90y"
      },
      "source": [
        "### Part (h) [2 pt]\n",
        "\n",
        "Since text sequences are of variable length, `torchtext` provides a `BucketIterator` data loader,\n",
        "which batches similar length sequences together. The iterator also provides functionalities to\n",
        "pad sequences automatically.\n",
        "\n",
        "Take a look at 10 batches in `train_iter`. What is the maximum length of the\n",
        "input sequence in each batch? How many `<pad>` tokens are used in each of the 10\n",
        "batches?"
      ]
    },
    {
      "cell_type": "code",
      "execution_count": null,
      "metadata": {
        "id": "V8N8qLWOa90y",
        "jupyter": {
          "outputs_hidden": true
        }
      },
      "outputs": [],
      "source": [
        "train_iter = torchtext.legacy.data.BucketIterator(train, batch_size=32,\n",
        "                                                  sort_key=lambda x: len(x.sms),\n",
        "                                                  sort_within_batch=True,\n",
        "                                                  repeat=False)"
      ]
    },
    {
      "cell_type": "code",
      "execution_count": null,
      "metadata": {
        "colab": {
          "base_uri": "https://localhost:8080/"
        },
        "id": "Qwz-rOaha902",
        "jupyter": {
          "outputs_hidden": true
        },
        "outputId": "f9fa44e1-f314-4ee7-c5b9-988d9c590f6b"
      },
      "outputs": [
        {
          "output_type": "stream",
          "name": "stdout",
          "text": [
            "pad_counts =  [0, 0, 9, 33, 0, 54, 39, 30, 0, 29]\n",
            "max lengths =  [155, 156, 81, 31, 160, 104, 50, 39, 154, 65]\n"
          ]
        }
      ],
      "source": [
        "counter = 0\n",
        "pad_counts = []\n",
        "max_lens = []\n",
        "for batch in train_iter:\n",
        "    if counter <10:\n",
        "        max_len = 0\n",
        "        pad_counter = 0\n",
        "        for msg in batch.sms[0]:\n",
        "            if len(msg) > max_len:\n",
        "                max_len = len(msg)\n",
        "\n",
        "            for token in msg:\n",
        "                if token == text_field.vocab.stoi[\"<pad>\"]:\n",
        "                    pad_counter +=1\n",
        "        pad_counts.append(pad_counter)\n",
        "        max_lens.append(max_len)\n",
        "\n",
        "    else:\n",
        "        break\n",
        "\n",
        "    counter += 1\n",
        "\n",
        "print(\"pad_counts = \", pad_counts)\n",
        "print(\"max lengths = \", max_lens)"
      ]
    },
    {
      "cell_type": "markdown",
      "metadata": {
        "id": "y7HnqP6_a904"
      },
      "source": [
        "## Part 2. Model Building [8 pt]\n",
        "\n",
        "Build a recurrent neural network model, using an architecture of your choosing.\n",
        "Use the one-hot embedding of each character as input to your recurrent network.\n",
        "Use one or more fully-connected layers to make the prediction based on your\n",
        "recurrent network output.\n",
        "\n",
        "Instead of using the RNN output value for the final token, another often used\n",
        "strategy is to max-pool over the entire output array. That is, instead of calling\n",
        "something like:\n",
        "\n",
        "```\n",
        "out, _ = self.rnn(x)\n",
        "self.fc(out[:, -1, :])\n",
        "```\n",
        "\n",
        "where `self.rnn` is an `nn.RNN`, `nn.GRU`, or `nn.LSTM` module, and `self.fc` is a\n",
        "fully-connected\n",
        "layer, we use:\n",
        "\n",
        "```\n",
        "out, _ = self.rnn(x)\n",
        "self.fc(torch.max(out, dim=1)[0])\n",
        "```\n",
        "\n",
        "This works reasonably in practice. An even better alternative is to concatenate the\n",
        "max-pooling and average-pooling of the RNN outputs:\n",
        "\n",
        "```\n",
        "out, _ = self.rnn(x)\n",
        "out = torch.cat([torch.max(out, dim=1)[0],\n",
        "                 torch.mean(out, dim=1)], dim=1)\n",
        "self.fc(out)\n",
        "```\n",
        "\n",
        "We encourage you to try out all these options. The way you pool the RNN outputs\n",
        "is one of the \"hyperparameters\" that you can choose to tune later on."
      ]
    },
    {
      "cell_type": "code",
      "execution_count": null,
      "metadata": {
        "colab": {
          "base_uri": "https://localhost:8080/"
        },
        "id": "jHl1p_Wwa905",
        "jupyter": {
          "outputs_hidden": true
        },
        "outputId": "a569f205-e92a-4a4c-f50e-4223e697eced"
      },
      "outputs": [
        {
          "output_type": "stream",
          "name": "stdout",
          "text": [
            "tensor([1., 0., 0., 0., 0., 0., 0., 0., 0., 0.])\n",
            "tensor([0., 1., 0., 0., 0., 0., 0., 0., 0., 0.])\n",
            "tensor([[[0., 1., 0., 0., 0., 0., 0., 0., 0., 0.],\n",
            "         [0., 0., 1., 0., 0., 0., 0., 0., 0., 0.]],\n",
            "\n",
            "        [[0., 0., 0., 1., 0., 0., 0., 0., 0., 0.],\n",
            "         [0., 0., 0., 0., 1., 0., 0., 0., 0., 0.]]])\n"
          ]
        }
      ],
      "source": [
        "# You might find this code helpful for obtaining\n",
        "# PyTorch one-hot vectors.\n",
        "\n",
        "ident = torch.eye(10)\n",
        "print(ident[0]) # one-hot vector\n",
        "print(ident[1]) # one-hot vector\n",
        "x = torch.tensor([[1, 2], [3, 4]])\n",
        "print(ident[x]) # one-hot vectors"
      ]
    },
    {
      "cell_type": "code",
      "execution_count": null,
      "metadata": {
        "id": "vAUk6LDIRi0b"
      },
      "outputs": [],
      "source": [
        "iden = torch.eye(len(text_field.vocab.itos))"
      ]
    },
    {
      "cell_type": "code",
      "execution_count": null,
      "metadata": {
        "id": "4LTQ7zFka909",
        "jupyter": {
          "outputs_hidden": true
        }
      },
      "outputs": [],
      "source": [
        "torch.manual_seed(42)\n",
        "\n",
        "class RNN(nn.Module):\n",
        "    def __init__(self, input_size, hidden_size, num_classes):\n",
        "        super(RNN, self).__init__()\n",
        "        self.emb = nn.Embedding.from_pretrained(iden)\n",
        "        self.hidden_size = hidden_size\n",
        "        self.rnn = nn.RNN(input_size, hidden_size, batch_first = True)\n",
        "        self.fc = nn.Linear(hidden_size, num_classes)\n",
        "\n",
        "    def forward(self,x):\n",
        "        # Look up the embedding\n",
        "        x = self.emb(x)\n",
        "        # Set an initial hidden state\n",
        "        h0 = torch.zeros(1, x.size(0), self.hidden_size)\n",
        "        # Forward propagate the RNN\n",
        "        out, _ = self.rnn(x, h0)\n",
        "        # last step comprises max pooling\n",
        "        output = self.fc(torch.max(out, dim=1)[0])\n",
        "        return output"
      ]
    },
    {
      "cell_type": "code",
      "execution_count": null,
      "metadata": {
        "id": "VYHKDfjYRi0c"
      },
      "outputs": [],
      "source": [
        "model = RNN(len(text_field.vocab.itos), len(text_field.vocab.itos), 2)"
      ]
    },
    {
      "cell_type": "markdown",
      "metadata": {
        "id": "vKIYPl_Ba90_"
      },
      "source": [
        "## Part 3. Training [16 pt]\n",
        "\n",
        "### Part (a) [4 pt]\n",
        "\n",
        "Complete the `get_accuracy` function, which will compute the\n",
        "accuracy (rate) of your model across a dataset (e.g. validation set).\n",
        "You may modify `torchtext.data.BucketIterator` to make your computation\n",
        "faster."
      ]
    },
    {
      "cell_type": "code",
      "execution_count": null,
      "metadata": {
        "id": "pvNfhGD6a91A",
        "jupyter": {
          "outputs_hidden": true
        }
      },
      "outputs": [],
      "source": [
        "def get_accuracy(model, data):\n",
        "    \"\"\" Compute the accuracy of the `model` across a dataset `data`\n",
        "\n",
        "    Example usage:\n",
        "\n",
        "    >>> model = MyRNN() # to be defined\n",
        "    >>> get_accuracy(model, valid) # the variable `valid` is from above\n",
        "    \"\"\"\n",
        "\n",
        "    corr = 0\n",
        "    tot = 0\n",
        "\n",
        "    iterable = torchtext.legacy.data.BucketIterator(data, batch_size=32,\n",
        "                                           sort_key=lambda x: len(x.sms),\n",
        "                                           sort_within_batch=True,\n",
        "                                           repeat=False)\n",
        "\n",
        "    for item in iterable:\n",
        "        output = model(item.sms[0])\n",
        "        pred = output.max(1, keepdim = True)[1]\n",
        "        corr += pred.eq(item.label.view_as(pred)).sum().item()\n",
        "        tot += item.label.shape[0]\n",
        "\n",
        "    acc = corr/tot\n",
        "\n",
        "    return acc"
      ]
    },
    {
      "cell_type": "markdown",
      "metadata": {
        "id": "TlxlcAC1a91C"
      },
      "source": [
        "### Part (b) [4 pt]\n",
        "\n",
        "Train your model. Plot the training curve of your final model.\n",
        "Your training curve should have the training/validation loss and\n",
        "accuracy plotted periodically.\n",
        "\n",
        "Note: Not all of your batches will have the same batch size.\n",
        "In particular, if your training set does not divide evenly by\n",
        "your batch size, there will be a batch that is smaller than\n",
        "the rest."
      ]
    },
    {
      "cell_type": "code",
      "execution_count": null,
      "metadata": {
        "id": "CVtf7CJCa91D",
        "jupyter": {
          "outputs_hidden": true
        }
      },
      "outputs": [],
      "source": [
        "def train_RNN(model,train,valid,num_epochs = 5,lr = 1e-4):\n",
        "    losses = []\n",
        "    train_accs = []\n",
        "    val_accs = []\n",
        "    eps = []\n",
        "    crit = nn.CrossEntropyLoss()\n",
        "    optim = torch.optim.Adam(model.parameters(),lr = lr)\n",
        "    train_iterator = torchtext.legacy.data.BucketIterator(train,\n",
        "                                           batch_size=32,\n",
        "                                           sort_key=lambda x: len(x.sms),\n",
        "                                           sort_within_batch=True,\n",
        "                                           repeat=False)\n",
        "\n",
        "    for epoch in range(num_epochs):\n",
        "        print(\"Epoch \", epoch)\n",
        "        eps.append(epoch)\n",
        "        for item in train_iterator:\n",
        "            optim.zero_grad()\n",
        "            pred = model(item.sms[0])\n",
        "            loss = crit(pred,item.label)\n",
        "            loss.backward()\n",
        "            optim.step()\n",
        "\n",
        "        losses.append(float(loss))\n",
        "        train_accs.append(get_accuracy(model, train))\n",
        "        val_accs.append(get_accuracy(model, valid))\n",
        "    print(\"Loss = \", losses[-1])\n",
        "    print(\"Train Acc = \", train_accs[-1])\n",
        "    print(\"Val Acc = \", val_accs[-1])\n",
        "\n",
        "    plt.title(\"Loss vs. Epochs\")\n",
        "    plt.plot(eps, losses)\n",
        "    plt.xlabel(\"Epoch\")\n",
        "    plt.ylabel(\"Loss\")\n",
        "    plt.show()\n",
        "\n",
        "    plt.title(\"Accuracy vs. Epochs\")\n",
        "    plt.plot(eps, train_accs, label = \"Training\")\n",
        "    plt.plot(eps, val_accs, label = \"Validation\")\n",
        "    plt.xlabel(\"Epoch\")\n",
        "    plt.ylabel(\"Accuracy\")\n",
        "    plt.legend(loc = 'best')\n",
        "    plt.show()"
      ]
    },
    {
      "cell_type": "code",
      "execution_count": null,
      "metadata": {
        "id": "WghprTlBRi0d",
        "outputId": "e27c0064-ca70-4b68-cff7-1f8af8f76c12"
      },
      "outputs": [
        {
          "name": "stdout",
          "output_type": "stream",
          "text": [
            "Epoch  0\n",
            "Epoch  1\n",
            "Epoch  2\n",
            "Epoch  3\n",
            "Epoch  4\n",
            "Epoch  5\n",
            "Epoch  6\n",
            "Epoch  7\n",
            "Epoch  8\n",
            "Epoch  9\n",
            "Epoch  10\n",
            "Epoch  11\n",
            "Epoch  12\n",
            "Epoch  13\n",
            "Epoch  14\n",
            "Epoch  15\n",
            "Epoch  16\n",
            "Epoch  17\n",
            "Epoch  18\n",
            "Epoch  19\n",
            "Loss =  0.06565544009208679\n",
            "Train Acc =  0.9808555189949147\n",
            "Val Acc =  0.9721973094170404\n"
          ]
        },
        {
          "data": {
            "image/png": "[encoded data removed]",
            "text/plain": [
              "<Figure size 432x288 with 1 Axes>"
            ]
          },
          "metadata": {
            "needs_background": "light"
          },
          "output_type": "display_data"
        },
        {
          "data": {
            "image/png": "[encoded data removed]",
            "text/plain": [
              "<Figure size 432x288 with 1 Axes>"
            ]
          },
          "metadata": {
            "needs_background": "light"
          },
          "output_type": "display_data"
        }
      ],
      "source": [
        "model1 = train_RNN(model, train, valid, num_epochs = 20)"
      ]
    },
    {
      "cell_type": "markdown",
      "metadata": {
        "id": "fE3eRkDAa91F"
      },
      "source": [
        "### Part (c) [4 pt]\n",
        "\n",
        "Choose at least 4 hyperparameters to tune. Explain how you tuned the hyperparameters.\n",
        "You don't need to include your training curve for every model you trained.\n",
        "Instead, explain what hyperparemters you tuned, what the best validation accuracy was,\n",
        "and the reasoning behind the hyperparameter decisions you made.\n",
        "\n",
        "For this assignment, you should tune more than just your learning rate and epoch.\n",
        "Choose at least 2 hyperparameters that are unrelated to the optimizer.\n",
        "\n",
        "A)\n",
        "\n",
        "I started by decreasing my learning rate from 1e-4 to 1e-5 because I saw a lot of oscillation in my original model's loss function.\n",
        "\n",
        "That increased my loss oscillations and decreased my accuracy, however, so I decided to keep my original learning rate and follow up by increasing the number of epochs to 30 to enable greater accuracy.\n",
        "\n",
        "That did improve my validation accuracy from 97.29% to 97.94%, so while I decided that I would use 30 epochs in my final model, I used 20 epochs for further testing because the 10 additional epochs only increased validation accuracy by <0.7% and didn't seem worth the additional training time. Next, I tried changing the number of hidden layers to 75. My validation accuracy was fairly comparable to my original model with, but slightly lower, so I decided to stick to my original decision of hidden layers = # of characters in the vocabulary.\n",
        "\n",
        "Lastly I tried to use a concatenation of average and max pooling for my class definition instead of just max pooling over the entire array. This also gave me a lower validation accuracy than my original model, however, so I decided to retain my original max pooling model.\n",
        "\n",
        "My model has 30 epochs, lr of 1e-4, hidden layers equal to the vocabulary length and max pooling over the entire array. My final validation accuracy in this architecture was 97.94%."
      ]
    },
    {
      "cell_type": "code",
      "execution_count": null,
      "metadata": {
        "id": "ahuG6pL2Ri0d",
        "outputId": "7ff678e8-4960-4598-ec56-d35a086833cf"
      },
      "outputs": [
        {
          "name": "stdout",
          "output_type": "stream",
          "text": [
            "Epoch  0\n",
            "Epoch  1\n",
            "Epoch  2\n",
            "Epoch  3\n",
            "Epoch  4\n",
            "Epoch  5\n",
            "Epoch  6\n",
            "Epoch  7\n",
            "Epoch  8\n",
            "Epoch  9\n",
            "Epoch  10\n",
            "Epoch  11\n",
            "Epoch  12\n",
            "Epoch  13\n",
            "Epoch  14\n",
            "Epoch  15\n",
            "Epoch  16\n",
            "Epoch  17\n",
            "Epoch  18\n",
            "Epoch  19\n",
            "Loss =  0.314963161945343\n",
            "Train Acc =  0.8680825605743344\n",
            "Val Acc =  0.8654708520179372\n"
          ]
        },
        {
          "data": {
            "image/png": "[encoded data removed]",
            "text/plain": [
              "<Figure size 432x288 with 1 Axes>"
            ]
          },
          "metadata": {
            "needs_background": "light"
          },
          "output_type": "display_data"
        },
        {
          "data": {
            "image/png": "[encoded data removed]",
            "text/plain": [
              "<Figure size 432x288 with 1 Axes>"
            ]
          },
          "metadata": {
            "needs_background": "light"
          },
          "output_type": "display_data"
        }
      ],
      "source": [
        "# Try tuning learning rate\n",
        "model = RNN(len(text_field.vocab.itos), len(text_field.vocab.itos), 2)\n",
        "model2 = train_RNN(model, train, valid, num_epochs=20, lr=1e-5)"
      ]
    },
    {
      "cell_type": "code",
      "execution_count": null,
      "metadata": {
        "id": "A2GEWfDca91G",
        "jupyter": {
          "outputs_hidden": true
        },
        "outputId": "36a6334b-3b54-453c-c547-e347c6db1024"
      },
      "outputs": [
        {
          "name": "stdout",
          "output_type": "stream",
          "text": [
            "Epoch  0\n",
            "Epoch  1\n",
            "Epoch  2\n",
            "Epoch  3\n",
            "Epoch  4\n",
            "Epoch  5\n",
            "Epoch  6\n",
            "Epoch  7\n",
            "Epoch  8\n",
            "Epoch  9\n",
            "Epoch  10\n",
            "Epoch  11\n",
            "Epoch  12\n",
            "Epoch  13\n",
            "Epoch  14\n",
            "Epoch  15\n",
            "Epoch  16\n",
            "Epoch  17\n",
            "Epoch  18\n",
            "Epoch  19\n",
            "Epoch  20\n",
            "Epoch  21\n",
            "Epoch  22\n",
            "Epoch  23\n",
            "Epoch  24\n",
            "Epoch  25\n",
            "Epoch  26\n",
            "Epoch  27\n",
            "Epoch  28\n",
            "Epoch  29\n",
            "Loss =  0.16466474533081055\n",
            "Train Acc =  0.9799581214478014\n",
            "Val Acc =  0.979372197309417\n"
          ]
        },
        {
          "data": {
            "image/png": "[encoded data removed]",
            "text/plain": [
              "<Figure size 432x288 with 1 Axes>"
            ]
          },
          "metadata": {
            "needs_background": "light"
          },
          "output_type": "display_data"
        },
        {
          "data": {
            "image/png": "[encoded data removed]",
            "text/plain": [
              "<Figure size 432x288 with 1 Axes>"
            ]
          },
          "metadata": {
            "needs_background": "light"
          },
          "output_type": "display_data"
        }
      ],
      "source": [
        "# Try tuning hidden state size\n",
        "model = RNN(len(text_field.vocab.itos), len(text_field.vocab.itos), 2)\n",
        "model3 = train_RNN(model, train, valid, num_epochs=30)"
      ]
    },
    {
      "cell_type": "code",
      "execution_count": null,
      "metadata": {
        "id": "ob8qP3Q2Ri0e",
        "outputId": "d3d25698-0b97-4b43-9050-271806c94647"
      },
      "outputs": [
        {
          "name": "stdout",
          "output_type": "stream",
          "text": [
            "Epoch  0\n",
            "Epoch  1\n",
            "Epoch  2\n",
            "Epoch  3\n",
            "Epoch  4\n",
            "Epoch  5\n",
            "Epoch  6\n",
            "Epoch  7\n",
            "Epoch  8\n",
            "Epoch  9\n",
            "Epoch  10\n",
            "Epoch  11\n",
            "Epoch  12\n",
            "Epoch  13\n",
            "Epoch  14\n",
            "Epoch  15\n",
            "Epoch  16\n",
            "Epoch  17\n",
            "Epoch  18\n",
            "Epoch  19\n",
            "Loss =  0.09754782170057297\n",
            "Train Acc =  0.97517200119653\n",
            "Val Acc =  0.968609865470852\n"
          ]
        },
        {
          "data": {
            "image/png": "[encoded data removed]",
            "text/plain": [
              "<Figure size 432x288 with 1 Axes>"
            ]
          },
          "metadata": {
            "needs_background": "light"
          },
          "output_type": "display_data"
        },
        {
          "data": {
            "image/png": "[encoded data removed]",
            "text/plain": [
              "<Figure size 432x288 with 1 Axes>"
            ]
          },
          "metadata": {
            "needs_background": "light"
          },
          "output_type": "display_data"
        }
      ],
      "source": [
        "# Try tuning hidden state size\n",
        "model = RNN(len(text_field.vocab.itos), 75, 2)\n",
        "model4 = train_RNN(model, train, valid, num_epochs=20)"
      ]
    },
    {
      "cell_type": "code",
      "execution_count": null,
      "metadata": {
        "id": "iCPyIh2DRi0e",
        "outputId": "7f559237-b75f-4d13-82e4-e98e7bfd727e"
      },
      "outputs": [
        {
          "name": "stdout",
          "output_type": "stream",
          "text": [
            "Epoch  0\n",
            "Epoch  1\n",
            "Epoch  2\n",
            "Epoch  3\n",
            "Epoch  4\n",
            "Epoch  5\n",
            "Epoch  6\n",
            "Epoch  7\n",
            "Epoch  8\n",
            "Epoch  9\n",
            "Epoch  10\n",
            "Epoch  11\n",
            "Epoch  12\n",
            "Epoch  13\n",
            "Epoch  14\n",
            "Epoch  15\n",
            "Epoch  16\n",
            "Epoch  17\n",
            "Epoch  18\n",
            "Epoch  19\n",
            "Loss =  0.11288277059793472\n",
            "Train Acc =  0.9712832784923722\n",
            "Val Acc =  0.9668161434977578\n"
          ]
        },
        {
          "data": {
            "image/png": "[encoded data removed]",
            "text/plain": [
              "<Figure size 432x288 with 1 Axes>"
            ]
          },
          "metadata": {
            "needs_background": "light"
          },
          "output_type": "display_data"
        },
        {
          "data": {
            "image/png": "[encoded data removed]",
            "text/plain": [
              "<Figure size 432x288 with 1 Axes>"
            ]
          },
          "metadata": {
            "needs_background": "light"
          },
          "output_type": "display_data"
        }
      ],
      "source": [
        "# Try tuning RNN output pooling\n",
        "\n",
        "class RNN_modif(nn.Module):\n",
        "    def __init__(self, input_size, hidden_size, num_classes):\n",
        "        super(RNN_modif, self).__init__()\n",
        "        self.emb = nn.Embedding.from_pretrained(iden)\n",
        "        self.hidden_size = hidden_size  # Hyperparameter, can change\n",
        "        self.rnn = nn.RNN(input_size, hidden_size, batch_first=True)\n",
        "        self.fc = nn.Linear(hidden_size*2, num_classes)\n",
        "\n",
        "    def forward(self, x):\n",
        "        # Look up the embedding\n",
        "        x = self.emb(x)\n",
        "        # Set an initial hidden state\n",
        "        h0 = torch.zeros(1, x.size(0), self.hidden_size)\n",
        "        # Forward propagate the RNN\n",
        "        out, _ = self.rnn(x, h0)\n",
        "        # Concat of max and average pooling of RNN outputs (Hyperparameter, can change)\n",
        "        out = torch.cat((torch.max(out, dim=1)[0], torch.mean(out, dim=1)), dim=1)\n",
        "        out = self.fc(out)\n",
        "        return out\n",
        "\n",
        "model = RNN_modif(len(text_field.vocab.itos), len(text_field.vocab.itos), 2)\n",
        "model5 = train_RNN(model, train, valid, num_epochs=20)"
      ]
    },
    {
      "cell_type": "markdown",
      "metadata": {
        "id": "v7DY56rKa91I"
      },
      "source": [
        "### Part (d) [2 pt]\n",
        "\n",
        "Before we deploy a machine learning model, we usually want to have a better understanding\n",
        "of how our model performs beyond its validation accuracy. An important metric to track is\n",
        "*how well our model performs in certain subsets of the data*.\n",
        "\n",
        "In particular, what is the model's error rate amongst data with negative labels?\n",
        "This is called the **false positive rate**.\n",
        "\n",
        "What about the model's error rate amongst data with positive labels?\n",
        "This is called the **false negative rate**.\n",
        "\n",
        "Report your final model's false positive and false negative rate across the\n",
        "validation set."
      ]
    },
    {
      "cell_type": "code",
      "execution_count": null,
      "metadata": {
        "id": "7ggbQSdba91J",
        "jupyter": {
          "outputs_hidden": true
        },
        "outputId": "458c613a-a522-445b-c6e2-22624cccb03f"
      },
      "outputs": [
        {
          "name": "stdout",
          "output_type": "stream",
          "text": [
            "False Negative Rate:  0.09999999999999998\n",
            "False Positives Rate:  0.022797927461139844\n"
          ]
        }
      ],
      "source": [
        "# Create a Dataset of only spam validation examples\n",
        "valid_spam = torchtext.legacy.data.Dataset(\n",
        "    [e for e in valid.examples if e.label == 1],\n",
        "    valid.fields)\n",
        "# Create a Dataset of only non-spam validation examples\n",
        "valid_nospam = torchtext.legacy.data.Dataset(\n",
        "    [e for e in valid.examples if e.label == 0],\n",
        "    valid.fields)\n",
        "\n",
        "fn = 1 - get_accuracy(model, valid_spam)\n",
        "fp = 1 - get_accuracy(model, valid_nospam)\n",
        "\n",
        "print(\"False Negative Rate: \", fn)\n",
        "print(\"False Positives Rate: \", fp)"
      ]
    },
    {
      "cell_type": "markdown",
      "metadata": {
        "id": "N1iRteb3a91O"
      },
      "source": [
        "### Part (e) [2 pt]\n",
        "\n",
        "The impact of a false positive vs a false negative can be drastically different.\n",
        "If our spam detection algorithm was deployed on your phone, what is the impact\n",
        "of a false positive on the phone's user? What is the impact of a false negative?\n",
        "\n",
        "A) False positive would lead to non-spam messages being classified as spam and the user not reading them. This can be very harmful as users may miss important texts filtered by the model.\n",
        "\n",
        "False negative would lead to spam messages being classified as non-spam and users having to read them. These are less harmful as spam texts, while irritating, are typically easily ignored by the user. However, if the user falls for a scam in the spam tests, these can also be very damaging."
      ]
    },
    {
      "cell_type": "markdown",
      "metadata": {
        "id": "Gznefulsa91V"
      },
      "source": [
        "## Part 4. Evaluation [11 pt]\n",
        "\n",
        "### Part (a) [1 pt]\n",
        "\n",
        "Report the final test accuracy of your model.\n",
        "\n",
        "A)\n",
        "\n",
        "My final test accuracy was 97.4%"
      ]
    },
    {
      "cell_type": "code",
      "execution_count": null,
      "metadata": {
        "id": "D5L5D-A1a91W",
        "jupyter": {
          "outputs_hidden": true
        }
      },
      "outputs": [],
      "source": [
        "model_test = RNN(len(text_field.vocab.itos), len(text_field.vocab.itos), 2)\n",
        "train_RNN(model_test, train, valid, num_epochs=30)\n",
        "print(\"Final Test Accuracy = \", get_accuracy(model_test, test))"
      ]
    },
    {
      "cell_type": "markdown",
      "metadata": {
        "id": "6Hjmd8rca91Y"
      },
      "source": [
        "### Part (b) [3 pt]\n",
        "\n",
        "Report the false positive rate and false negative rate of your model across the test set."
      ]
    },
    {
      "cell_type": "code",
      "execution_count": null,
      "metadata": {
        "colab": {
          "base_uri": "https://localhost:8080/",
          "height": 232
        },
        "id": "GFiAKztJa91Z",
        "jupyter": {
          "outputs_hidden": true
        },
        "outputId": "6aaa4022-a265-47a8-effa-18a302c6b7db"
      },
      "outputs": [
        {
          "output_type": "error",
          "ename": "NameError",
          "evalue": "ignored",
          "traceback": [
            "\u001b[0;31m---------------------------------------------------------------------------\u001b[0m",
            "\u001b[0;31mNameError\u001b[0m                                 Traceback (most recent call last)",
            "\u001b[0;32m<ipython-input-21-3745e3123198>\u001b[0m in \u001b[0;36m<module>\u001b[0;34m\u001b[0m\n\u001b[1;32m      8\u001b[0m     valid.fields) \n\u001b[1;32m      9\u001b[0m \u001b[0;34m\u001b[0m\u001b[0m\n\u001b[0;32m---> 10\u001b[0;31m \u001b[0mfn\u001b[0m \u001b[0;34m=\u001b[0m \u001b[0;36m1\u001b[0m \u001b[0;34m-\u001b[0m \u001b[0mget_accuracy\u001b[0m\u001b[0;34m(\u001b[0m\u001b[0mmodel_test\u001b[0m\u001b[0;34m,\u001b[0m \u001b[0mvalid_spam\u001b[0m\u001b[0;34m)\u001b[0m\u001b[0;34m\u001b[0m\u001b[0;34m\u001b[0m\u001b[0m\n\u001b[0m\u001b[1;32m     11\u001b[0m \u001b[0mfp\u001b[0m \u001b[0;34m=\u001b[0m \u001b[0;36m1\u001b[0m \u001b[0;34m-\u001b[0m \u001b[0mget_accuracy\u001b[0m\u001b[0;34m(\u001b[0m\u001b[0mmodel_test\u001b[0m\u001b[0;34m,\u001b[0m \u001b[0mvalid_nospam\u001b[0m\u001b[0;34m)\u001b[0m\u001b[0;34m\u001b[0m\u001b[0;34m\u001b[0m\u001b[0m\n\u001b[1;32m     12\u001b[0m \u001b[0;34m\u001b[0m\u001b[0m\n",
            "\u001b[0;31mNameError\u001b[0m: name 'model_test' is not defined"
          ]
        }
      ],
      "source": [
        "# Create a Dataset of only spam validation examples\n",
        "valid_spam = torchtext.legacy.data.Dataset(\n",
        "    [e for e in test.examples if e.label == 1],\n",
        "    valid.fields)\n",
        "# Create a Dataset of only non-spam validation examples\n",
        "valid_nospam = torchtext.legacy.data.Dataset(\n",
        "    [e for e in test.examples if e.label == 0],\n",
        "    valid.fields)\n",
        "\n",
        "fn = 1 - get_accuracy(model_test, valid_spam)\n",
        "fp = 1 - get_accuracy(model_test, valid_nospam)\n",
        "\n",
        "print(\"False Negative Rate: \", fn)\n",
        "print(\"False Positives Rate: \", fp)"
      ]
    },
    {
      "cell_type": "markdown",
      "metadata": {
        "id": "0jGHtQFpa91b"
      },
      "source": [
        "### Part (c) [3 pt]\n",
        "\n",
        "What is your model's prediction of the **probability** that\n",
        "the SMS message \"machine learning is sooo cool!\" is spam?\n",
        "\n",
        "Hint: To begin, use `text_field.vocab.stoi` to look up the index\n",
        "of each character in the vocabulary.\n",
        "\n",
        "A)\n",
        "\n",
        "My model predicts a 1.46% spam probability."
      ]
    },
    {
      "cell_type": "code",
      "execution_count": null,
      "metadata": {
        "id": "h_2nSJq8a91b",
        "jupyter": {
          "outputs_hidden": true
        },
        "outputId": "805c0193-5c63-4f3c-dc3d-c7d7a3cd810f"
      },
      "outputs": [
        {
          "name": "stdout",
          "output_type": "stream",
          "text": [
            "Spam probability =  0.014641212299466133\n"
          ]
        }
      ],
      "source": [
        "msg = \"machine learning is sooo cool!\"\n",
        "\n",
        "tokens = []\n",
        "\n",
        "for token in msg:\n",
        "    tokens.append(torch.tensor(text_field.vocab.stoi[token]))\n",
        "\n",
        "t = torch.stack(tokens)\n",
        "t = t.unsqueeze(0)\n",
        "\n",
        "out = torch.softmax(model_test(t), dim = 1)[0][1].item()\n",
        "print(\"Spam probability = \", out)"
      ]
    },
    {
      "cell_type": "markdown",
      "metadata": {
        "id": "QD1zgYJpa91f"
      },
      "source": [
        "### Part (d) [4 pt]\n",
        "\n",
        "Do you think detecting spam is an easy or difficult task?\n",
        "\n",
        "Since machine learning models are expensive to train and deploy, it is very\n",
        "important to compare our models against baseline models: a simple\n",
        "model that is easy to build and inexpensive to run that we can compare our\n",
        "recurrent neural network model against.\n",
        "\n",
        "Explain how you might build a simple baseline model. This baseline model\n",
        "can be a simple neural network (with very few weights), a hand-written algorithm,\n",
        "or any other strategy that is easy to build and test.\n",
        "\n",
        "**Do not actually build a baseline model. Instead, provide instructions on\n",
        "how to build it.**\n",
        "\n",
        "\n",
        "A)\n",
        "\n",
        "Detecting spam is a difficult task because spam what constitutes spam can vary from person to person. For example, messages regarding bitcoins may be spam for doctors but non-spam for crypto traders. Therefore, we need individual-specific data and lots of it to build highly accurate models, but that may not always be available depending on how proactively the individual classifies messages as spam.\n",
        "\n",
        "For the baseline model, I would use a decision tree. I would take the messages database with labels and input each message (using split function like in this model) so that the tree can evaluate the probability of a message being spam given the presence of characters present in the message. I would use scikit learn library to readily use decision tree related functions for this task."
      ]
    },
    {
      "cell_type": "code",
      "source": [],
      "metadata": {
        "id": "owAtAFo9fugO"
      },
      "execution_count": null,
      "outputs": []
    }
  ],
  "metadata": {
    "colab": {
      "provenance": []
    },
    "kernelspec": {
      "display_name": "Python 3 (ipykernel)",
      "language": "python",
      "name": "python3"
    },
    "language_info": {
      "codemirror_mode": {
        "name": "ipython",
        "version": 3
      },
      "file_extension": ".py",
      "mimetype": "text/x-python",
      "name": "python",
      "nbconvert_exporter": "python",
      "pygments_lexer": "ipython3",
      "version": "3.9.12"
    }
  },
  "nbformat": 4,
  "nbformat_minor": 0
}